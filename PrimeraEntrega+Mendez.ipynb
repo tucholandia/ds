{
  "nbformat": 4,
  "nbformat_minor": 0,
  "metadata": {
    "colab": {
      "provenance": [],
      "toc_visible": true
    },
    "kernelspec": {
      "name": "python3",
      "display_name": "Python 3"
    },
    "language_info": {
      "name": "python"
    }
  },
  "cells": [
    {
      "cell_type": "markdown",
      "source": [
        "# Abstract"
      ],
      "metadata": {
        "id": "XXckXq14Us_J"
      }
    },
    {
      "cell_type": "markdown",
      "source": [
        "El presente abstract tiene como objetivo proporcionar una breve descripción del presente trabajo.\n",
        "\n",
        "En base a un dataset que combina variables de una nómina, métricas de People Analytics y resultados de encuestas, nos proponemos analizar las renuncias en esta organización.\n",
        "\n",
        "Surgen como principal objetivo poder entender que variables apalancan los niveles de renuncia.\n",
        "\n",
        "Para esto buscaremos poder entender el perfil del colaborador que presenta una mayor probabilidad de renuncia y, adicionalmente determinar si los renunciantes son perfiles de valor para la compañia.\n",
        "\n",
        "Una vez mapeado el perfil del “probable renunciante” y conforme vamos avanzando surgen preguntas a respondernos: los colaboradores que renuncian son los más valiosos, o nos conviene no tomar medidas para que sigan renuncian perfiles que no nos conviene mantener. \n",
        "\n",
        "O si por el contrario; los colaboradores que renunciam son los más valiosos, entender qué puede hacer la organización para evitar las salidas. \n",
        "\n",
        "Finalmente, nos preguntamos si la organización puede evitar las salidas, o si por el contrario es un comportamiento habitual en el sector o mercado, es decir realizando un bench podemos analizar si la organización está peor o mejor que la competencia, o el mercado.\n",
        "\n",
        "Mi motivación el dataset en cuestión debiene de que actualemente estoy trabajando en el area de People Analytics; motivo por el cual me interesa profundizar en modelos relacionados con Recursos Humanos.\n"
      ],
      "metadata": {
        "id": "8Y58rplJXWig"
      }
    },
    {
      "cell_type": "markdown",
      "source": [
        "# Hipótesis"
      ],
      "metadata": {
        "id": "D1eFl55sUwVk"
      }
    },
    {
      "cell_type": "markdown",
      "source": [
        "*   Podemos predecir si un colaborador tiene altas probabilidades de renunciar?\n",
        "*   Determinar si los perfiles de colaboradores que renuncian son valiosos.\n",
        "\n",
        "\n",
        "\n"
      ],
      "metadata": {
        "id": "77iZslNoVrCm"
      }
    },
    {
      "cell_type": "markdown",
      "source": [
        "# Definición de Objetivo"
      ],
      "metadata": {
        "id": "kDeiEmPCVNwc"
      }
    },
    {
      "cell_type": "markdown",
      "source": [
        "Gestionar los niveles de renuncia de la empresa."
      ],
      "metadata": {
        "id": "3NkmZ1QWZUfR"
      }
    },
    {
      "cell_type": "markdown",
      "source": [
        "# Contexto Comercial"
      ],
      "metadata": {
        "id": "KdKfh8b_VSHk"
      }
    },
    {
      "cell_type": "markdown",
      "source": [
        "No todas las renuncias son perjudiciales para la empresa; la renuncia de colaboradores que no son valiosos, que no vienen performando satisfactoriamente, o que no estan comprometidos pueden ser salidas deseadas.\n",
        "\n",
        "Las renuncias de los colaboradores valiosos, opuestos a los anteriores, son los que más nos deben preocupar. De aquí el interes en poder predecir la probabilidad de renuncia. Sin son recursos valiosos, la perdida va a estar dada por la pérdida del recurso en si, y por los costos y tiempos de conseguir su reemplazo."
      ],
      "metadata": {
        "id": "ld9XqAOlZppN"
      }
    },
    {
      "cell_type": "markdown",
      "source": [
        "# Problema Comercial"
      ],
      "metadata": {
        "id": "1g7mLBYJa6nr"
      }
    },
    {
      "cell_type": "markdown",
      "source": [
        "El análisis de los niveles de renuncia de organizaciones grandes requiere un estudio de la situación total de la empresa, para ver el comportamiento de todo el universo, y analizar las distintas dimensiones, areas, regiones, funciones, etc. Si este estudio sólo es realizado por las distintas direcciones, gerencias o regiones puede caerse en sesgos, puede subestimarse el tema debido a la cantidad de renuncias bajo su area de responsabilidad, etc.\n",
        "\n",
        "De la misma manera las decisiones y acciones a implementar deberan ser consideradas desde una mirada totalizadora, aunque dependiendo del tema, puede requerir accionar sobre areas o funciones específicas.\n",
        "\n",
        "Por esto un analisis total de la situacion es la forma optima de encarar su estudio."
      ],
      "metadata": {
        "id": "jSmTBBdoa-1a"
      }
    },
    {
      "cell_type": "markdown",
      "source": [
        "# Contexto Analítico"
      ],
      "metadata": {
        "id": "MfD6QRN3VVLH"
      }
    },
    {
      "cell_type": "markdown",
      "source": [
        "El dataset cuyo origen es www.kaggle.com, contiene información de 15000 colaboradores; 66 variables, entre las cuales encontramos información de nómina, resultados de encuestas, y Kpis de People Analytics. \n",
        "\n",
        "En primer lugar analizamos y estudiamos el significado de las variables, en función a la información detallada para cada campo que nos brinda el repositorio.\n",
        "\n",
        "Para este trabajo fuimos analizando las variables y su correlación con la variable left_Company, que es la que nos indica si el colaborador renunció. De esta manera recorrimos las variables descartando las que consideramos como de poca relevancia para el análisis, como ser: Departament, GEO, Rising_Star, Will_Relocate, Critical, Trending Perf, Talent_Level, Validated_Talent_Level, Percent_Remote, Work_accident, promotion_last_5years, Gender, LinkedIn_Hits, Emp_Work_Status, entre otras. No es que las descartemos, solo vemos que no se comportan como el driver principal para comenzar a analizar las renuncias. \n",
        "\n",
        "En contrapartida vemos que las siguientes variables muestran, como veremos a continuación un comportamiento interesante en relación a los niveles de renuncias: Role, EMP_Sat_OnPrem, EMP_Sat_Remote, number_project, time_spend_company, salary, Emp_Identity, Emp_Role, Emp_Position, Emp_Title, Sensor_StepCount, average_montly_hours, last_evaluation, y EMP_Engagement."
      ],
      "metadata": {
        "id": "lgqJ3PX1dYrZ"
      }
    },
    {
      "cell_type": "markdown",
      "source": [
        "# Diccionario de Datos\n"
      ],
      "metadata": {
        "id": "0E3a0tjOWiVy"
      }
    },
    {
      "cell_type": "markdown",
      "source": [
        "A continuación una descripción de los campos más relevantes del dataset:\n",
        "\n",
        "\n",
        "**left_Company:** Indica si el empleado renunció o no.\n",
        "\n",
        "**Role:** El puesto o título del empleado.\n",
        "\n",
        "**EMP_Sat_OnPrem (N):** Indicador de una encuesta que un tercero envió a los empleados, para situaciones presenciales.\n",
        "\n",
        "**EMP_Sat_Remote(N):** Indicador de una encuesta que un tercero envió a los empleados, para situaciones Home Office.\n",
        "\n",
        "**number_project:** El número de proyectos en los que trabaja el empleado a lo largo del año.\n",
        "\n",
        "**time_spend_company:** Años de servicio.\n",
        "\n",
        "**salary:** Grado salarial relativo (bajo, medio, alto).\n",
        "\n",
        "**Emp_Identity:** Grado de identificación del empleado con la empresa.\n",
        "\n",
        "**Emp_Role:** Cómo se identifica el empleado con la importancia de su rol en la empresa.\n",
        "\n",
        "**Emp_Position:** Cómo se identifica el empleado con la importancia de su puesto en la empresa.\n",
        "\n",
        "**Emp_Title:** Cómo se siente el empleado sobre su título.\n",
        "\n",
        "**Sensor_StepCount:** Los dispositivos sensibles se utilizan para capturar ciertas actividades de los empleados. En este caso número de pasos.\n",
        "\n",
        "**average_montly_hours:** El promedio de horas que trabaja el empleado.\n",
        "\n",
        "**last_evaluation:** La puntuación en la última evaluación del empleado.\n",
        "\n",
        "**EMP_Engagement (N):** Indicador de una encuesta que un tercero envió. Mide el compromiso y representa el sentimiento del empleado acerca de cómo se siente al participar en las actividades de la empresa."
      ],
      "metadata": {
        "id": "uGJ7rAPodokm"
      }
    },
    {
      "cell_type": "markdown",
      "source": [
        "# Análisis Exploratorio (EDA)"
      ],
      "metadata": {
        "id": "NI1NHL3MU4Io"
      }
    },
    {
      "cell_type": "markdown",
      "source": [
        "`Nota: la columna Men_Leave evidencia si el empleado masculino renunció o no renunció, pero detecté que el dataset contiene 2.538 registros NaN de un total de 7.403 Masculino, por eso realizamos la limpieza de esos datos.`"
      ],
      "metadata": {
        "id": "UTmYUTJan0LI"
      }
    },
    {
      "cell_type": "code",
      "execution_count": 1,
      "metadata": {
        "id": "osi_hcgLdPzM"
      },
      "outputs": [],
      "source": [
        "import matplotlib as mpl\n",
        "import matplotlib.pyplot as plt\n",
        "import seaborn as sns\n",
        "import pandas as pd "
      ]
    },
    {
      "cell_type": "code",
      "source": [
        "from google.colab import drive\n",
        "import os\n",
        "drive.mount('/content/gdrive')"
      ],
      "metadata": {
        "id": "ARUdhSXIgK7L",
        "colab": {
          "base_uri": "https://localhost:8080/"
        },
        "outputId": "095277a1-adf8-4895-8222-5334b1148505"
      },
      "execution_count": 2,
      "outputs": [
        {
          "output_type": "stream",
          "name": "stdout",
          "text": [
            "Mounted at /content/gdrive\n"
          ]
        }
      ]
    },
    {
      "cell_type": "code",
      "source": [
        "%cd '/content/gdrive/MyDrive/DS'\n",
        "dsM = pd.read_csv('dataset_04.csv',sep=',') #Importo\n",
        "dsM.dropna(subset=['Men_Leave'], inplace=True) #Me quedo con los Masculinos sin NaN\n",
        "\n"
      ],
      "metadata": {
        "colab": {
          "base_uri": "https://localhost:8080/"
        },
        "id": "z1Lki5hqdq42",
        "outputId": "9f99c8f2-786e-4bc2-b21a-7a0f547d2b7d"
      },
      "execution_count": 6,
      "outputs": [
        {
          "output_type": "stream",
          "name": "stdout",
          "text": [
            "/content/gdrive/MyDrive/DS\n"
          ]
        }
      ]
    },
    {
      "cell_type": "code",
      "source": [
        "%cd '/content/gdrive/MyDrive/DS'\n",
        "dsF = pd.read_csv('dataset_04.csv',sep=',') #importo\n",
        "dsF = dsF[(dsF.Gender == \"F\")] #Me quedo con los Femeninos, que están todos ok.\n",
        "\n",
        "ds1 = pd.merge(dsM, dsF, how='outer') # Hago un merge para unir los Masculinos y los Femeninos en un dataset final."
      ],
      "metadata": {
        "colab": {
          "base_uri": "https://localhost:8080/"
        },
        "id": "v_Tui--fLoKT",
        "outputId": "e65b624c-7097-4d93-b501-665b7b6711fc"
      },
      "execution_count": 7,
      "outputs": [
        {
          "output_type": "stream",
          "name": "stdout",
          "text": [
            "/content/gdrive/MyDrive/DS\n"
          ]
        }
      ]
    },
    {
      "cell_type": "markdown",
      "source": [
        "Como se aprecia a continuación los resultados de las encuestas que miden el Engagement o compromiso parecen poder mostrar un comportamiento contundente en cuanto a su correlación con el nivel de renuncias. Todos los colaboradores cuyo Engagement era bajo renunciaron. \n",
        "\n",
        "Las variables: EMP_Engagement_1, EMP_Engagement_2, EMP_Engagement_3, EMP_Engagement_4, EMP_Engagement_5 representan los resultados de compromiso del colaborador en distintas instancias."
      ],
      "metadata": {
        "id": "KuFn4ZIGqJej"
      }
    },
    {
      "cell_type": "code",
      "source": [
        "sns.histplot(data=ds1, x=\"EMP_Engagement_1\", hue=\"left_Company\", multiple=\"stack\").set(title='Renuncias según nivel de Engagement (Enc_1)')"
      ],
      "metadata": {
        "colab": {
          "base_uri": "https://localhost:8080/",
          "height": 313
        },
        "id": "IRN8AzYJoyY6",
        "outputId": "b1c9255e-2106-4819-a937-e0df99f773ec"
      },
      "execution_count": 8,
      "outputs": [
        {
          "output_type": "execute_result",
          "data": {
            "text/plain": [
              "[Text(0.5, 1.0, 'Renuncias según nivel de Engagement (Enc_1)')]"
            ]
          },
          "metadata": {},
          "execution_count": 8
        },
        {
          "output_type": "display_data",
          "data": {
            "text/plain": [
              "<Figure size 432x288 with 1 Axes>"
            ],
            "image/png": "[encoded data removed]"
          },
          "metadata": {
            "needs_background": "light"
          }
        }
      ]
    },
    {
      "cell_type": "code",
      "source": [
        "sns.histplot(data=ds1, x=\"EMP_Engagement_2\", hue=\"left_Company\", multiple=\"stack\").set(title='Renuncias según nivel de Engagement (Enc_2)')"
      ],
      "metadata": {
        "colab": {
          "base_uri": "https://localhost:8080/",
          "height": 313
        },
        "id": "6-H4FEXp1Abb",
        "outputId": "ff0075d0-476e-403e-ef8f-95f1ee387d5e"
      },
      "execution_count": 9,
      "outputs": [
        {
          "output_type": "execute_result",
          "data": {
            "text/plain": [
              "[Text(0.5, 1.0, 'Renuncias según nivel de Engagement (Enc_2)')]"
            ]
          },
          "metadata": {},
          "execution_count": 9
        },
        {
          "output_type": "display_data",
          "data": {
            "text/plain": [
              "<Figure size 432x288 with 1 Axes>"
            ],
            "image/png": "[encoded data removed]"
          },
          "metadata": {
            "needs_background": "light"
          }
        }
      ]
    },
    {
      "cell_type": "code",
      "source": [
        "sns.histplot(data=ds1, x=\"EMP_Engagement_3\", hue=\"left_Company\", multiple=\"stack\").set(title='Renuncias según nivel de Engagement (Enc_3)')"
      ],
      "metadata": {
        "colab": {
          "base_uri": "https://localhost:8080/",
          "height": 313
        },
        "id": "UdNSIvPopmNB",
        "outputId": "b81dce3e-09fc-4066-9595-4ae45c236b2b"
      },
      "execution_count": 10,
      "outputs": [
        {
          "output_type": "execute_result",
          "data": {
            "text/plain": [
              "[Text(0.5, 1.0, 'Renuncias según nivel de Engagement (Enc_3)')]"
            ]
          },
          "metadata": {},
          "execution_count": 10
        },
        {
          "output_type": "display_data",
          "data": {
            "text/plain": [
              "<Figure size 432x288 with 1 Axes>"
            ],
            "image/png": "[encoded data removed]"
          },
          "metadata": {
            "needs_background": "light"
          }
        }
      ]
    },
    {
      "cell_type": "code",
      "source": [
        "sns.histplot(data=ds1, x=\"EMP_Engagement_4\", hue=\"left_Company\", multiple=\"stack\").set(title='Renuncias según nivel de Engagement (Enc_4)')"
      ],
      "metadata": {
        "colab": {
          "base_uri": "https://localhost:8080/",
          "height": 313
        },
        "id": "Wj3ashw-ppva",
        "outputId": "cdbf6345-02b3-473e-f8b8-b76166419bb0"
      },
      "execution_count": 11,
      "outputs": [
        {
          "output_type": "execute_result",
          "data": {
            "text/plain": [
              "[Text(0.5, 1.0, 'Renuncias según nivel de Engagement (Enc_4)')]"
            ]
          },
          "metadata": {},
          "execution_count": 11
        },
        {
          "output_type": "display_data",
          "data": {
            "text/plain": [
              "<Figure size 432x288 with 1 Axes>"
            ],
            "image/png": "[encoded data removed]"
          },
          "metadata": {
            "needs_background": "light"
          }
        }
      ]
    },
    {
      "cell_type": "code",
      "source": [
        "sns.histplot(data=ds1, x=\"EMP_Engagement_5\", hue=\"left_Company\", multiple=\"stack\").set(title='Renuncias según nivel de Engagement (Enc_5)')"
      ],
      "metadata": {
        "colab": {
          "base_uri": "https://localhost:8080/",
          "height": 313
        },
        "id": "xvW4DzNepr7n",
        "outputId": "d16528d9-2b5b-4db8-b300-d7800b71950b"
      },
      "execution_count": 12,
      "outputs": [
        {
          "output_type": "execute_result",
          "data": {
            "text/plain": [
              "[Text(0.5, 1.0, 'Renuncias según nivel de Engagement (Enc_5)')]"
            ]
          },
          "metadata": {},
          "execution_count": 12
        },
        {
          "output_type": "display_data",
          "data": {
            "text/plain": [
              "<Figure size 432x288 with 1 Axes>"
            ],
            "image/png": "[encoded data removed]"
          },
          "metadata": {
            "needs_background": "light"
          }
        }
      ]
    },
    {
      "cell_type": "markdown",
      "source": [
        "En segundo lugar, con el objetivo de poder aportar en el entendimiento del perfil del colaborador que renuncia, encontramos el siguiente agrupamiento de colaboradores, donde vemos que los grupos que que renuncian, estan concentrados en dos secciones bien identificadas del siguiente gráfico que muestra las renuncias seguin el promedio de horas mensuales y conteo de pasos del colaborador."
      ],
      "metadata": {
        "id": "ZZrziOlfxiN0"
      }
    },
    {
      "cell_type": "code",
      "source": [
        "import matplotlib.pyplot as plt\n",
        "sns.scatterplot(data=ds1, x=\"Sensor_StepCount\", y=\"average_montly_hours\", hue=\"left_Company\")\n",
        "plt.title('Renuncias segun promedio de horas mensuales y conteo de pasos')"
      ],
      "metadata": {
        "colab": {
          "base_uri": "https://localhost:8080/",
          "height": 313
        },
        "id": "FhhlwAS8xYiH",
        "outputId": "523f7059-69bf-46a9-cb10-e65a4a17519e"
      },
      "execution_count": 13,
      "outputs": [
        {
          "output_type": "execute_result",
          "data": {
            "text/plain": [
              "Text(0.5, 1.0, 'Renuncias segun promedio de horas mensuales y conteo de pasos')"
            ]
          },
          "metadata": {},
          "execution_count": 13
        },
        {
          "output_type": "display_data",
          "data": {
            "text/plain": [
              "<Figure size 432x288 with 1 Axes>"
            ],
            "image/png": "[encoded data removed]"
          },
          "metadata": {
            "needs_background": "light"
          }
        }
      ]
    },
    {
      "cell_type": "markdown",
      "source": [
        "Analizado las renuncias en función a la cantida de proyectos por colaborador vemos dos comportamientos muy marcados.\n",
        "\n",
        "Por un lado a partir de los 3 proyectos como cantidad optima (nivel de renuncia del 1.99%), se visualiza que a mayor cantidad de proyectos, mayor porcentaje de renuncias. Asi cuando analizamos los colaboradores que participaron en 7 proyectos, encontramos un nivel de renuncia del 100%\n",
        "\n",
        "Por otro lado encontramos que los colaboradores que sólo participan en 2 proyectos, se presentan como el segundo grupo con mayor porcentaje de renuncias (41.76%)."
      ],
      "metadata": {
        "id": "5-JYSDhdy30H"
      }
    },
    {
      "cell_type": "code",
      "source": [
        "sns.histplot(data=ds1, x=\"number_project\", hue=\"left_Company\", multiple=\"stack\")\n",
        "plt.title('Renuncias segun Cantidad de Proyectos')"
      ],
      "metadata": {
        "colab": {
          "base_uri": "https://localhost:8080/",
          "height": 313
        },
        "id": "rx1GKLWry1uL",
        "outputId": "807cf72c-77f1-47eb-af13-9c55538c1f58"
      },
      "execution_count": 14,
      "outputs": [
        {
          "output_type": "execute_result",
          "data": {
            "text/plain": [
              "Text(0.5, 1.0, 'Renuncias segun Cantidad de Proyectos')"
            ]
          },
          "metadata": {},
          "execution_count": 14
        },
        {
          "output_type": "display_data",
          "data": {
            "text/plain": [
              "<Figure size 432x288 with 1 Axes>"
            ],
            "image/png": "[encoded data removed]"
          },
          "metadata": {
            "needs_background": "light"
          }
        }
      ]
    },
    {
      "cell_type": "markdown",
      "source": [
        "# Conclusiones / Insight"
      ],
      "metadata": {
        "id": "XQyPdHKFzFPl"
      }
    },
    {
      "cell_type": "markdown",
      "source": [
        "En función del objetivo planteado es contundente la importancia del Engagemente para poder predecir la probabilidad de renuncia de los colaboradores. \n",
        "\n",
        "El resto de las variables nos va a permitir bocetar un perfil de los renunciantes y finalemente evaluar si los renunciantes son los colaboradores más valiosos."
      ],
      "metadata": {
        "id": "ET80prKYzRn9"
      }
    },
    {
      "cell_type": "markdown",
      "source": [
        "# FEATURE SELECTION\n",
        "\n",
        "Seleccionamos las características más relevantes, basandonos en el peso, la importancia, correlación, calidad de los datos, etc.\n"
      ],
      "metadata": {
        "id": "3ptLKP0AIAcW"
      }
    },
    {
      "cell_type": "code",
      "source": [
        "ds1.shape # 12.461 registros y 62 columnas"
      ],
      "metadata": {
        "colab": {
          "base_uri": "https://localhost:8080/"
        },
        "id": "LgiUtGeiZ7v5",
        "outputId": "bd366017-a06b-4c89-c043-2178ccfaf444"
      },
      "execution_count": 15,
      "outputs": [
        {
          "output_type": "execute_result",
          "data": {
            "text/plain": [
              "(12461, 62)"
            ]
          },
          "metadata": {},
          "execution_count": 15
        }
      ]
    },
    {
      "cell_type": "code",
      "source": [
        "ds1.info()"
      ],
      "metadata": {
        "colab": {
          "base_uri": "https://localhost:8080/"
        },
        "id": "u71WzXMOcH6L",
        "outputId": "a2294d39-8735-49c0-8865-2803d3ef39bd"
      },
      "execution_count": 16,
      "outputs": [
        {
          "output_type": "stream",
          "name": "stdout",
          "text": [
            "<class 'pandas.core.frame.DataFrame'>\n",
            "Int64Index: 12461 entries, 0 to 12460\n",
            "Data columns (total 62 columns):\n",
            " #   Column                                 Non-Null Count  Dtype  \n",
            "---  ------                                 --------------  -----  \n",
            " 0   ID                                     12461 non-null  int64  \n",
            " 1   Name                                   12459 non-null  object \n",
            " 2   Department                             12461 non-null  object \n",
            " 3   GEO                                    12461 non-null  object \n",
            " 4   Role                                   12461 non-null  object \n",
            " 5   Rising_Star                            21 non-null     float64\n",
            " 6   Will_Relocate                          12461 non-null  int64  \n",
            " 7   Critical                               476 non-null    float64\n",
            " 8   Trending Perf                          12461 non-null  int64  \n",
            " 9   Talent_Level                           12461 non-null  int64  \n",
            " 10  Validated_Talent_Level                 12461 non-null  int64  \n",
            " 11  Percent_Remote                         12461 non-null  float64\n",
            " 12  EMP_Sat_OnPrem_1                       12355 non-null  float64\n",
            " 13  EMP_Sat_OnPrem_2                       12355 non-null  float64\n",
            " 14  EMP_Sat_OnPrem_3                       12355 non-null  float64\n",
            " 15  EMP_Sat_OnPrem_4                       12355 non-null  float64\n",
            " 16  EMP_Sat_OnPrem_5                       12355 non-null  float64\n",
            " 17  EMP_Sat_Remote_1                       12461 non-null  int64  \n",
            " 18  EMP_Sat_Remote_2                       12461 non-null  int64  \n",
            " 19  EMP_Sat_Remote_3                       12461 non-null  int64  \n",
            " 20  EMP_Sat_Remote_4                       12461 non-null  int64  \n",
            " 21  EMP_Sat_Remote_5                       12461 non-null  int64  \n",
            " 22  EMP_Engagement_1                       12461 non-null  int64  \n",
            " 23  EMP_Engagement_2                       12461 non-null  int64  \n",
            " 24  EMP_Engagement_3                       12461 non-null  int64  \n",
            " 25  EMP_Engagement_4                       12461 non-null  int64  \n",
            " 26  EMP_Engagement_5                       12461 non-null  int64  \n",
            " 27  last_evaluation                        12461 non-null  float64\n",
            " 28  number_project                         12461 non-null  int64  \n",
            " 29  average_montly_hours                   12461 non-null  int64  \n",
            " 30  time_spend_company                     12461 non-null  int64  \n",
            " 31  Work_accident                          12461 non-null  int64  \n",
            " 32  left_Company                           12461 non-null  int64  \n",
            " 33  CSR Factor                             1710 non-null   float64\n",
            " 34  promotion_last_5years                  12461 non-null  int64  \n",
            " 35  sales                                  12461 non-null  object \n",
            " 36  salary                                 12461 non-null  object \n",
            " 37  Gender                                 12461 non-null  object \n",
            " 38  LinkedIn_Hits                          12461 non-null  int64  \n",
            " 39  Emp_Work_Status2                       12461 non-null  int64  \n",
            " 40  Emp_Work_Status_3                      12461 non-null  int64  \n",
            " 41  Emp_Work_Status_4                      12461 non-null  int64  \n",
            " 42  Emp_Work_Status_5                      12461 non-null  int64  \n",
            " 43  Emp_Identity                           12461 non-null  int64  \n",
            " 44  Emp_Role                               12461 non-null  int64  \n",
            " 45  Emp_Position                           12461 non-null  int64  \n",
            " 46  Emp_Title                              12461 non-null  int64  \n",
            " 47  Women_Leave                            7596 non-null   float64\n",
            " 48  Men_Leave                              4865 non-null   float64\n",
            " 49  Emp_Competitive_1                      12461 non-null  int64  \n",
            " 50  Emp_Competitive_2                      12461 non-null  int64  \n",
            " 51  Emp_Competitive_3                      12461 non-null  int64  \n",
            " 52  Emp_Competitive_4                      12461 non-null  int64  \n",
            " 53  Emp_Competitive_5                      12461 non-null  int64  \n",
            " 54  Emp_Collaborative_1                    12461 non-null  int64  \n",
            " 55  Emp_Collaborative_2                    12461 non-null  int64  \n",
            " 56  Emp_Collaborative_3                    12461 non-null  int64  \n",
            " 57  Emp_Collaborative_4                    12461 non-null  int64  \n",
            " 58  Emp_Collaborative_5                    12461 non-null  int64  \n",
            " 59  Sensor_StepCount                       12461 non-null  int64  \n",
            " 60  Sensor_Heartbeat(Average/Min)          12461 non-null  int64  \n",
            " 61  Sensor_Proximity(1-highest/10-lowest)  12461 non-null  int64  \n",
            "dtypes: float64(12), int64(43), object(7)\n",
            "memory usage: 6.2+ MB\n"
          ]
        }
      ]
    },
    {
      "cell_type": "code",
      "source": [
        "ds1_num = ds1.select_dtypes('number') #Descartamos variables que no son suméricas, y que previamente se consideraron poco relavantes.\n",
        "ds1_num.head()"
      ],
      "metadata": {
        "colab": {
          "base_uri": "https://localhost:8080/",
          "height": 317
        },
        "id": "fNrcJGcsciZP",
        "outputId": "46cdc593-c615-43d5-9ca1-0a3215553081"
      },
      "execution_count": 17,
      "outputs": [
        {
          "output_type": "execute_result",
          "data": {
            "text/plain": [
              "   ID  Rising_Star  Will_Relocate  Critical  Trending Perf  Talent_Level  \\\n",
              "0   1          NaN              0       1.0              3             6   \n",
              "1   4          NaN              0       NaN              3             6   \n",
              "2   9          NaN              0       NaN              3             6   \n",
              "3  11          NaN              0       1.0              3             6   \n",
              "4  13          NaN              0       1.0              3             6   \n",
              "\n",
              "   Validated_Talent_Level  Percent_Remote  EMP_Sat_OnPrem_1  EMP_Sat_OnPrem_2  \\\n",
              "0                       6             0.4               3.0               3.0   \n",
              "1                       6             0.4               3.0               3.0   \n",
              "2                       6             0.4               3.0               3.0   \n",
              "3                       6             0.4               3.0               3.0   \n",
              "4                       6             0.4               3.0               3.0   \n",
              "\n",
              "   ...  Emp_Competitive_4  Emp_Competitive_5  Emp_Collaborative_1  \\\n",
              "0  ...                  2                  2                    2   \n",
              "1  ...                  5                  1                    1   \n",
              "2  ...                  5                  1                    5   \n",
              "3  ...                  4                  5                    2   \n",
              "4  ...                  4                  5                    2   \n",
              "\n",
              "   Emp_Collaborative_2  Emp_Collaborative_3  Emp_Collaborative_4  \\\n",
              "0                    2                    2                    1   \n",
              "1                    2                    4                    4   \n",
              "2                    2                    3                    3   \n",
              "3                    1                    4                    5   \n",
              "4                    1                    4                    5   \n",
              "\n",
              "   Emp_Collaborative_5  Sensor_StepCount  Sensor_Heartbeat(Average/Min)  \\\n",
              "0                    5              1841                             61   \n",
              "1                    1              3248                             77   \n",
              "2                    2              1974                             64   \n",
              "3                    4              2121                             80   \n",
              "4                    2              3056                             76   \n",
              "\n",
              "   Sensor_Proximity(1-highest/10-lowest)  \n",
              "0                                      9  \n",
              "1                                      6  \n",
              "2                                      7  \n",
              "3                                     10  \n",
              "4                                      9  \n",
              "\n",
              "[5 rows x 55 columns]"
            ],
            "text/html": [
              "\n",
              "  <div id=\"df-ef703e0d-d7dc-48d9-8395-210da5e62941\">\n",
              "    <div class=\"colab-df-container\">\n",
              "      <div>\n",
              "<style scoped>\n",
              "    .dataframe tbody tr th:only-of-type {\n",
              "        vertical-align: middle;\n",
              "    }\n",
              "\n",
              "    .dataframe tbody tr th {\n",
              "        vertical-align: top;\n",
              "    }\n",
              "\n",
              "    .dataframe thead th {\n",
              "        text-align: right;\n",
              "    }\n",
              "</style>\n",
              "<table border=\"1\" class=\"dataframe\">\n",
              "  <thead>\n",
              "    <tr style=\"text-align: right;\">\n",
              "      <th></th>\n",
              "      <th>ID</th>\n",
              "      <th>Rising_Star</th>\n",
              "      <th>Will_Relocate</th>\n",
              "      <th>Critical</th>\n",
              "      <th>Trending Perf</th>\n",
              "      <th>Talent_Level</th>\n",
              "      <th>Validated_Talent_Level</th>\n",
              "      <th>Percent_Remote</th>\n",
              "      <th>EMP_Sat_OnPrem_1</th>\n",
              "      <th>EMP_Sat_OnPrem_2</th>\n",
              "      <th>...</th>\n",
              "      <th>Emp_Competitive_4</th>\n",
              "      <th>Emp_Competitive_5</th>\n",
              "      <th>Emp_Collaborative_1</th>\n",
              "      <th>Emp_Collaborative_2</th>\n",
              "      <th>Emp_Collaborative_3</th>\n",
              "      <th>Emp_Collaborative_4</th>\n",
              "      <th>Emp_Collaborative_5</th>\n",
              "      <th>Sensor_StepCount</th>\n",
              "      <th>Sensor_Heartbeat(Average/Min)</th>\n",
              "      <th>Sensor_Proximity(1-highest/10-lowest)</th>\n",
              "    </tr>\n",
              "  </thead>\n",
              "  <tbody>\n",
              "    <tr>\n",
              "      <th>0</th>\n",
              "      <td>1</td>\n",
              "      <td>NaN</td>\n",
              "      <td>0</td>\n",
              "      <td>1.0</td>\n",
              "      <td>3</td>\n",
              "      <td>6</td>\n",
              "      <td>6</td>\n",
              "      <td>0.4</td>\n",
              "      <td>3.0</td>\n",
              "      <td>3.0</td>\n",
              "      <td>...</td>\n",
              "      <td>2</td>\n",
              "      <td>2</td>\n",
              "      <td>2</td>\n",
              "      <td>2</td>\n",
              "      <td>2</td>\n",
              "      <td>1</td>\n",
              "      <td>5</td>\n",
              "      <td>1841</td>\n",
              "      <td>61</td>\n",
              "      <td>9</td>\n",
              "    </tr>\n",
              "    <tr>\n",
              "      <th>1</th>\n",
              "      <td>4</td>\n",
              "      <td>NaN</td>\n",
              "      <td>0</td>\n",
              "      <td>NaN</td>\n",
              "      <td>3</td>\n",
              "      <td>6</td>\n",
              "      <td>6</td>\n",
              "      <td>0.4</td>\n",
              "      <td>3.0</td>\n",
              "      <td>3.0</td>\n",
              "      <td>...</td>\n",
              "      <td>5</td>\n",
              "      <td>1</td>\n",
              "      <td>1</td>\n",
              "      <td>2</td>\n",
              "      <td>4</td>\n",
              "      <td>4</td>\n",
              "      <td>1</td>\n",
              "      <td>3248</td>\n",
              "      <td>77</td>\n",
              "      <td>6</td>\n",
              "    </tr>\n",
              "    <tr>\n",
              "      <th>2</th>\n",
              "      <td>9</td>\n",
              "      <td>NaN</td>\n",
              "      <td>0</td>\n",
              "      <td>NaN</td>\n",
              "      <td>3</td>\n",
              "      <td>6</td>\n",
              "      <td>6</td>\n",
              "      <td>0.4</td>\n",
              "      <td>3.0</td>\n",
              "      <td>3.0</td>\n",
              "      <td>...</td>\n",
              "      <td>5</td>\n",
              "      <td>1</td>\n",
              "      <td>5</td>\n",
              "      <td>2</td>\n",
              "      <td>3</td>\n",
              "      <td>3</td>\n",
              "      <td>2</td>\n",
              "      <td>1974</td>\n",
              "      <td>64</td>\n",
              "      <td>7</td>\n",
              "    </tr>\n",
              "    <tr>\n",
              "      <th>3</th>\n",
              "      <td>11</td>\n",
              "      <td>NaN</td>\n",
              "      <td>0</td>\n",
              "      <td>1.0</td>\n",
              "      <td>3</td>\n",
              "      <td>6</td>\n",
              "      <td>6</td>\n",
              "      <td>0.4</td>\n",
              "      <td>3.0</td>\n",
              "      <td>3.0</td>\n",
              "      <td>...</td>\n",
              "      <td>4</td>\n",
              "      <td>5</td>\n",
              "      <td>2</td>\n",
              "      <td>1</td>\n",
              "      <td>4</td>\n",
              "      <td>5</td>\n",
              "      <td>4</td>\n",
              "      <td>2121</td>\n",
              "      <td>80</td>\n",
              "      <td>10</td>\n",
              "    </tr>\n",
              "    <tr>\n",
              "      <th>4</th>\n",
              "      <td>13</td>\n",
              "      <td>NaN</td>\n",
              "      <td>0</td>\n",
              "      <td>1.0</td>\n",
              "      <td>3</td>\n",
              "      <td>6</td>\n",
              "      <td>6</td>\n",
              "      <td>0.4</td>\n",
              "      <td>3.0</td>\n",
              "      <td>3.0</td>\n",
              "      <td>...</td>\n",
              "      <td>4</td>\n",
              "      <td>5</td>\n",
              "      <td>2</td>\n",
              "      <td>1</td>\n",
              "      <td>4</td>\n",
              "      <td>5</td>\n",
              "      <td>2</td>\n",
              "      <td>3056</td>\n",
              "      <td>76</td>\n",
              "      <td>9</td>\n",
              "    </tr>\n",
              "  </tbody>\n",
              "</table>\n",
              "<p>5 rows × 55 columns</p>\n",
              "</div>\n",
              "      <button class=\"colab-df-convert\" onclick=\"convertToInteractive('df-ef703e0d-d7dc-48d9-8395-210da5e62941')\"\n",
              "              title=\"Convert this dataframe to an interactive table.\"\n",
              "              style=\"display:none;\">\n",
              "        \n",
              "  <svg xmlns=\"http://www.w3.org/2000/svg\" height=\"24px\"viewBox=\"0 0 24 24\"\n",
              "       width=\"24px\">\n",
              "    <path d=\"M0 0h24v24H0V0z\" fill=\"none\"/>\n",
              "    <path d=\"M18.56 5.44l.94 2.06.94-2.06 2.06-.94-2.06-.94-.94-2.06-.94 2.06-2.06.94zm-11 1L8.5 8.5l.94-2.06 2.06-.94-2.06-.94L8.5 2.5l-.94 2.06-2.06.94zm10 10l.94 2.06.94-2.06 2.06-.94-2.06-.94-.94-2.06-.94 2.06-2.06.94z\"/><path d=\"M17.41 7.96l-1.37-1.37c-.4-.4-.92-.59-1.43-.59-.52 0-1.04.2-1.43.59L10.3 9.45l-7.72 7.72c-.78.78-.78 2.05 0 2.83L4 21.41c.39.39.9.59 1.41.59.51 0 1.02-.2 1.41-.59l7.78-7.78 2.81-2.81c.8-.78.8-2.07 0-2.86zM5.41 20L4 18.59l7.72-7.72 1.47 1.35L5.41 20z\"/>\n",
              "  </svg>\n",
              "      </button>\n",
              "      \n",
              "  <style>\n",
              "    .colab-df-container {\n",
              "      display:flex;\n",
              "      flex-wrap:wrap;\n",
              "      gap: 12px;\n",
              "    }\n",
              "\n",
              "    .colab-df-convert {\n",
              "      background-color: #E8F0FE;\n",
              "      border: none;\n",
              "      border-radius: 50%;\n",
              "      cursor: pointer;\n",
              "      display: none;\n",
              "      fill: #1967D2;\n",
              "      height: 32px;\n",
              "      padding: 0 0 0 0;\n",
              "      width: 32px;\n",
              "    }\n",
              "\n",
              "    .colab-df-convert:hover {\n",
              "      background-color: #E2EBFA;\n",
              "      box-shadow: 0px 1px 2px rgba(60, 64, 67, 0.3), 0px 1px 3px 1px rgba(60, 64, 67, 0.15);\n",
              "      fill: #174EA6;\n",
              "    }\n",
              "\n",
              "    [theme=dark] .colab-df-convert {\n",
              "      background-color: #3B4455;\n",
              "      fill: #D2E3FC;\n",
              "    }\n",
              "\n",
              "    [theme=dark] .colab-df-convert:hover {\n",
              "      background-color: #434B5C;\n",
              "      box-shadow: 0px 1px 3px 1px rgba(0, 0, 0, 0.15);\n",
              "      filter: drop-shadow(0px 1px 2px rgba(0, 0, 0, 0.3));\n",
              "      fill: #FFFFFF;\n",
              "    }\n",
              "  </style>\n",
              "\n",
              "      <script>\n",
              "        const buttonEl =\n",
              "          document.querySelector('#df-ef703e0d-d7dc-48d9-8395-210da5e62941 button.colab-df-convert');\n",
              "        buttonEl.style.display =\n",
              "          google.colab.kernel.accessAllowed ? 'block' : 'none';\n",
              "\n",
              "        async function convertToInteractive(key) {\n",
              "          const element = document.querySelector('#df-ef703e0d-d7dc-48d9-8395-210da5e62941');\n",
              "          const dataTable =\n",
              "            await google.colab.kernel.invokeFunction('convertToInteractive',\n",
              "                                                     [key], {});\n",
              "          if (!dataTable) return;\n",
              "\n",
              "          const docLinkHtml = 'Like what you see? Visit the ' +\n",
              "            '<a target=\"_blank\" href=https://colab.research.google.com/notebooks/data_table.ipynb>data table notebook</a>'\n",
              "            + ' to learn more about interactive tables.';\n",
              "          element.innerHTML = '';\n",
              "          dataTable['output_type'] = 'display_data';\n",
              "          await google.colab.output.renderOutput(dataTable, element);\n",
              "          const docLink = document.createElement('div');\n",
              "          docLink.innerHTML = docLinkHtml;\n",
              "          element.appendChild(docLink);\n",
              "        }\n",
              "      </script>\n",
              "    </div>\n",
              "  </div>\n",
              "  "
            ]
          },
          "metadata": {},
          "execution_count": 17
        }
      ]
    },
    {
      "cell_type": "code",
      "source": [
        "ds1_num.columns"
      ],
      "metadata": {
        "colab": {
          "base_uri": "https://localhost:8080/"
        },
        "id": "u_eT4ymsdbAh",
        "outputId": "f9cdf0da-4c07-4deb-ccc4-a228eae2505b"
      },
      "execution_count": 18,
      "outputs": [
        {
          "output_type": "execute_result",
          "data": {
            "text/plain": [
              "Index(['ID', 'Rising_Star', 'Will_Relocate', 'Critical', 'Trending Perf',\n",
              "       'Talent_Level', 'Validated_Talent_Level', 'Percent_Remote',\n",
              "       'EMP_Sat_OnPrem_1', 'EMP_Sat_OnPrem_2', 'EMP_Sat_OnPrem_3',\n",
              "       'EMP_Sat_OnPrem_4', 'EMP_Sat_OnPrem_5', 'EMP_Sat_Remote_1',\n",
              "       'EMP_Sat_Remote_2', 'EMP_Sat_Remote_3', 'EMP_Sat_Remote_4',\n",
              "       'EMP_Sat_Remote_5', 'EMP_Engagement_1', 'EMP_Engagement_2',\n",
              "       'EMP_Engagement_3', 'EMP_Engagement_4', 'EMP_Engagement_5',\n",
              "       'last_evaluation', 'number_project', 'average_montly_hours',\n",
              "       'time_spend_company', 'Work_accident', 'left_Company', 'CSR Factor',\n",
              "       'promotion_last_5years', 'LinkedIn_Hits', 'Emp_Work_Status2',\n",
              "       'Emp_Work_Status_3', 'Emp_Work_Status_4', 'Emp_Work_Status_5',\n",
              "       'Emp_Identity', 'Emp_Role', 'Emp_Position', 'Emp_Title', 'Women_Leave',\n",
              "       'Men_Leave', 'Emp_Competitive_1', 'Emp_Competitive_2',\n",
              "       'Emp_Competitive_3', 'Emp_Competitive_4', 'Emp_Competitive_5',\n",
              "       'Emp_Collaborative_1', 'Emp_Collaborative_2', 'Emp_Collaborative_3',\n",
              "       'Emp_Collaborative_4', 'Emp_Collaborative_5', 'Sensor_StepCount',\n",
              "       'Sensor_Heartbeat(Average/Min)',\n",
              "       'Sensor_Proximity(1-highest/10-lowest)'],\n",
              "      dtype='object')"
            ]
          },
          "metadata": {},
          "execution_count": 18
        }
      ]
    },
    {
      "cell_type": "code",
      "source": [
        "ds1_num.dropna(axis=1, inplace=True) #Descartamos variables con valores NaN.\n"
      ],
      "metadata": {
        "id": "_22-HS4thNkr"
      },
      "execution_count": 20,
      "outputs": []
    },
    {
      "cell_type": "code",
      "source": [
        "ds1_num = ds1_num.drop('ID', axis=1) #Descartamos campo de identación."
      ],
      "metadata": {
        "id": "wGemZsds0DlS"
      },
      "execution_count": 21,
      "outputs": []
    },
    {
      "cell_type": "code",
      "source": [
        "ds1_num.columns"
      ],
      "metadata": {
        "colab": {
          "base_uri": "https://localhost:8080/"
        },
        "outputId": "95b6fedd-4d56-4154-8af9-bcd5cd79e7eb",
        "id": "3ijXTQHGnweK"
      },
      "execution_count": 22,
      "outputs": [
        {
          "output_type": "execute_result",
          "data": {
            "text/plain": [
              "Index(['Will_Relocate', 'Trending Perf', 'Talent_Level',\n",
              "       'Validated_Talent_Level', 'Percent_Remote', 'EMP_Sat_Remote_1',\n",
              "       'EMP_Sat_Remote_2', 'EMP_Sat_Remote_3', 'EMP_Sat_Remote_4',\n",
              "       'EMP_Sat_Remote_5', 'EMP_Engagement_1', 'EMP_Engagement_2',\n",
              "       'EMP_Engagement_3', 'EMP_Engagement_4', 'EMP_Engagement_5',\n",
              "       'last_evaluation', 'number_project', 'average_montly_hours',\n",
              "       'time_spend_company', 'Work_accident', 'left_Company',\n",
              "       'promotion_last_5years', 'LinkedIn_Hits', 'Emp_Work_Status2',\n",
              "       'Emp_Work_Status_3', 'Emp_Work_Status_4', 'Emp_Work_Status_5',\n",
              "       'Emp_Identity', 'Emp_Role', 'Emp_Position', 'Emp_Title',\n",
              "       'Emp_Competitive_1', 'Emp_Competitive_2', 'Emp_Competitive_3',\n",
              "       'Emp_Competitive_4', 'Emp_Competitive_5', 'Emp_Collaborative_1',\n",
              "       'Emp_Collaborative_2', 'Emp_Collaborative_3', 'Emp_Collaborative_4',\n",
              "       'Emp_Collaborative_5', 'Sensor_StepCount',\n",
              "       'Sensor_Heartbeat(Average/Min)',\n",
              "       'Sensor_Proximity(1-highest/10-lowest)'],\n",
              "      dtype='object')"
            ]
          },
          "metadata": {},
          "execution_count": 22
        }
      ]
    },
    {
      "cell_type": "code",
      "source": [
        "#Diccionario\n",
        "d_desc = {'Will_Relocate':'Disponibilidad de reubicarse', 'Trending Perf':'Performance', 'Talent_Level':'Talento',\n",
        "       'Validated_Talent_Level':'Talento Validado', 'Percent_Remote':'Porcentaje de Remoto/Home', 'EMP_Sat_Remote_1':'Encuesta de satisfaccion en Remoto 1',\n",
        "       'EMP_Sat_Remote_2':'Encuesta de satisfaccion en Remoto 2', 'EMP_Sat_Remote_3':'Encuesta de satisfaccion en Remoto 3', 'EMP_Sat_Remote_4':'Encuesta de satisfaccion en Remoto 4',\n",
        "       'EMP_Sat_Remote_5':'Encuesta de satisfaccion en Remoto 5', 'EMP_Engagement_1':'Resultado Engagement del Empleado 1', 'EMP_Engagement_2':'Resultado Engagement del Empleado 2',\n",
        "       'EMP_Engagement_3':'Resultado Engagement del Empleado 3', 'EMP_Engagement_4':'Engagement del Empleado 4', 'EMP_Engagement_5':'Resultado Engagement del Empleado 5',\n",
        "       'last_evaluation':'Última Evaluación', 'number_project':'Cantidad de Proyectos anuales', 'average_montly_hours':'Horas promedio al mes',\n",
        "       'time_spend_company':'Antiguedad', 'Work_accident':'Accidentes de trabajo', 'left_Company':'Target = Renunció o no',\n",
        "       'promotion_last_5years':'Promovido en los ultimos 5 años ', 'LinkedIn_Hits':'Conteo de Linkedin', 'Emp_Work_Status2':'Status del empleado 2',\n",
        "       'Emp_Work_Status_3':'Status del empleado 3', 'Emp_Work_Status_4':'Status del empleado 4', 'Emp_Work_Status_5':'Status del empleado 5',\n",
        "       'Emp_Identity':'Identificación con la empresa', 'Emp_Role':'Rol', 'Emp_Position':'Posición', 'Emp_Title':'Titulo',\n",
        "       'Emp_Competitive_1':'Nivel De competencia 1', 'Emp_Competitive_2':'Nivel De competencia 2', 'Emp_Competitive_3':'Nivel De competencia 3',\n",
        "       'Emp_Competitive_4':'Nivel De competencia 4', 'Emp_Competitive_5':'Nivel De competencia 5', 'Emp_Collaborative_1':'Nivel de Colaboración 1',\n",
        "       'Emp_Collaborative_2':'Nivel de Colaboración 2', 'Emp_Collaborative_3':'Nivel de Colaboración 3', 'Emp_Collaborative_4':'Nivel de Colaboración 4',\n",
        "       'Emp_Collaborative_5':'Nivel de Colaboración 5', 'Sensor_StepCount':'Conteo de pasos',\n",
        "       'Sensor_Heartbeat(Average/Min)':'Sensor de pulsaciones',\n",
        "       'Sensor_Proximity(1-highest/10-lowest)':'Sensor de proximidad'}"
      ],
      "metadata": {
        "id": "zK9eB-wZcV0S"
      },
      "execution_count": 23,
      "outputs": []
    },
    {
      "cell_type": "code",
      "source": [
        "# Generamos features y target\n",
        "X = ds1_num.drop('left_Company', axis=1)\n",
        "y = ds1_num['left_Company']"
      ],
      "metadata": {
        "id": "bYfGDaROekyN"
      },
      "execution_count": 30,
      "outputs": []
    },
    {
      "cell_type": "markdown",
      "source": [
        "# ARBOL DE DECISIÓN"
      ],
      "metadata": {
        "id": "x0x1gTHg09HL"
      }
    },
    {
      "cell_type": "code",
      "source": [
        "from sklearn.model_selection import train_test_split\n",
        "# Train test split\n",
        "X_train, X_test, y_train, y_test = train_test_split(X, y,\n",
        "                                                    test_size=0.2,\n",
        "                                                    random_state=33,\n",
        "                                                    stratify= y)\n",
        "\n",
        "\n",
        "print('Tamaño del set de Entrenamiento:', X_train.shape)\n",
        "print('Tamaño del set de Testeo:', X_test.shape)"
      ],
      "metadata": {
        "colab": {
          "base_uri": "https://localhost:8080/"
        },
        "id": "HpKbQxcqfQoZ",
        "outputId": "d1bca54e-b9f7-476d-c21a-37049280e590"
      },
      "execution_count": null,
      "outputs": [
        {
          "output_type": "stream",
          "name": "stdout",
          "text": [
            "Tamaño del set de Entrenamiento: (9968, 43)\n",
            "Tamaño del set de Testeo: (2493, 43)\n"
          ]
        }
      ]
    },
    {
      "cell_type": "code",
      "source": [
        "100*y_train.sum()/len(y_train) # Porcentaje de True en train"
      ],
      "metadata": {
        "colab": {
          "base_uri": "https://localhost:8080/"
        },
        "id": "6MkzIkVifatI",
        "outputId": "6482e2af-aef1-494f-8cf9-7573337ecb21"
      },
      "execution_count": null,
      "outputs": [
        {
          "output_type": "execute_result",
          "data": {
            "text/plain": [
              "28.62158908507223"
            ]
          },
          "metadata": {},
          "execution_count": 175
        }
      ]
    },
    {
      "cell_type": "code",
      "source": [
        "100*y_test.sum()/len(y_test) # Porcentaje de True en test"
      ],
      "metadata": {
        "colab": {
          "base_uri": "https://localhost:8080/"
        },
        "id": "D2hM-xIqfiTk",
        "outputId": "be76f863-1ed7-4f95-8bc8-cd0d257543c3"
      },
      "execution_count": null,
      "outputs": [
        {
          "output_type": "execute_result",
          "data": {
            "text/plain": [
              "28.60008022462896"
            ]
          },
          "metadata": {},
          "execution_count": 176
        }
      ]
    },
    {
      "cell_type": "code",
      "source": [
        "from sklearn.tree import DecisionTreeClassifier # Modelo"
      ],
      "metadata": {
        "id": "-Ud19wV_fn_4"
      },
      "execution_count": null,
      "outputs": []
    },
    {
      "cell_type": "code",
      "source": [
        "# Instanciar el objeto/modelo\n",
        "tree_model = DecisionTreeClassifier(random_state = 0, class_weight='balanced')"
      ],
      "metadata": {
        "id": "2oe3I2gUfqTL"
      },
      "execution_count": null,
      "outputs": []
    },
    {
      "cell_type": "markdown",
      "source": [
        "### ENTRENAMIENTO"
      ],
      "metadata": {
        "id": "APlGsFDK2nnh"
      }
    },
    {
      "cell_type": "code",
      "source": [
        "# Ajustar el modelo con los datos\n",
        "tree_model.fit(X_train, y_train)"
      ],
      "metadata": {
        "colab": {
          "base_uri": "https://localhost:8080/"
        },
        "id": "KlWxD9KTfsv1",
        "outputId": "b8c54ce3-e500-499b-9c87-5ed87f4dd9cd"
      },
      "execution_count": null,
      "outputs": [
        {
          "output_type": "execute_result",
          "data": {
            "text/plain": [
              "DecisionTreeClassifier(class_weight='balanced', random_state=0)"
            ]
          },
          "metadata": {},
          "execution_count": 179
        }
      ]
    },
    {
      "cell_type": "code",
      "source": [
        "# Graficamos el Arbol\n",
        "from sklearn import tree\n",
        "fig = plt.figure(figsize=(18,5))\n",
        "_ = tree.plot_tree(tree_model,feature_names = list(ds1_num),class_names=['No Renuncia','Renuncia'],\n",
        "                   filled=True)"
      ],
      "metadata": {
        "colab": {
          "base_uri": "https://localhost:8080/",
          "height": 282
        },
        "id": "XNbrIh9wk6Sw",
        "outputId": "32467878-1a29-48e3-942e-fa7b77fbe7de"
      },
      "execution_count": null,
      "outputs": [
        {
          "output_type": "display_data",
          "data": {
            "text/plain": [
              "<Figure size 1296x360 with 1 Axes>"
            ],
            "image/png": "[encoded data removed]"
          },
          "metadata": {
            "needs_background": "light"
          }
        }
      ]
    },
    {
      "cell_type": "markdown",
      "source": [
        "### PREDICCION"
      ],
      "metadata": {
        "id": "QgHOuJIm8lV3"
      }
    },
    {
      "cell_type": "code",
      "source": [
        "# predicciones\n",
        "y_pred = tree_model.predict(X_test)\n",
        "y_pred_train = tree_model.predict(X_train)"
      ],
      "metadata": {
        "id": "0wNVt_NJhcGx"
      },
      "execution_count": null,
      "outputs": []
    },
    {
      "cell_type": "code",
      "source": [
        "X_test.shape, y_test.shape"
      ],
      "metadata": {
        "colab": {
          "base_uri": "https://localhost:8080/"
        },
        "id": "watDAj7khe5l",
        "outputId": "4926c220-ecce-483e-8346-719c69471bb1"
      },
      "execution_count": null,
      "outputs": [
        {
          "output_type": "execute_result",
          "data": {
            "text/plain": [
              "((2493, 43), (2493,))"
            ]
          },
          "metadata": {},
          "execution_count": 182
        }
      ]
    },
    {
      "cell_type": "code",
      "source": [
        "y_pred.shape"
      ],
      "metadata": {
        "colab": {
          "base_uri": "https://localhost:8080/"
        },
        "id": "H_7NuYiEhiQo",
        "outputId": "16628f4f-d6cf-44bf-d08c-b87e08a45a7c"
      },
      "execution_count": null,
      "outputs": [
        {
          "output_type": "execute_result",
          "data": {
            "text/plain": [
              "(2493,)"
            ]
          },
          "metadata": {},
          "execution_count": 183
        }
      ]
    },
    {
      "cell_type": "code",
      "source": [
        "X_test"
      ],
      "metadata": {
        "colab": {
          "base_uri": "https://localhost:8080/",
          "height": 505
        },
        "id": "p8Yrl5WGhk9g",
        "outputId": "c781774b-a2f8-401a-eea0-b45dda634ba4"
      },
      "execution_count": null,
      "outputs": [
        {
          "output_type": "execute_result",
          "data": {
            "text/plain": [
              "       Will_Relocate  Trending Perf  Talent_Level  Validated_Talent_Level  \\\n",
              "12020              1              3             6                       6   \n",
              "278                1              3             6                       6   \n",
              "4758               0              3             6                       6   \n",
              "11105              1              3             6                       6   \n",
              "11022              0              3             6                       6   \n",
              "...              ...            ...           ...                     ...   \n",
              "9726               1              3             6                       6   \n",
              "6639               0              3             6                       6   \n",
              "119                0              3             6                       6   \n",
              "6130               1              3             6                       6   \n",
              "11268              0              3             6                       6   \n",
              "\n",
              "       Percent_Remote  EMP_Sat_Remote_1  EMP_Sat_Remote_2  EMP_Sat_Remote_3  \\\n",
              "12020             0.8                 5                 5                 4   \n",
              "278               0.4                 2                 3                 2   \n",
              "4758              0.8                 5                 5                 4   \n",
              "11105             0.8                 3                 5                 4   \n",
              "11022             0.8                 3                 5                 4   \n",
              "...               ...               ...               ...               ...   \n",
              "9726              0.8                 3                 5                 4   \n",
              "6639              0.4                 2                 3                 2   \n",
              "119               0.4                 2                 3                 2   \n",
              "6130              0.4                 2                 3                 2   \n",
              "11268             0.8                 3                 5                 4   \n",
              "\n",
              "       EMP_Sat_Remote_4  EMP_Sat_Remote_5  ...  Emp_Competitive_4  \\\n",
              "12020                 5                 4  ...                  5   \n",
              "278                   3                 2  ...                  3   \n",
              "4758                  5                 4  ...                  3   \n",
              "11105                 4                 5  ...                  4   \n",
              "11022                 4                 5  ...                  3   \n",
              "...                 ...               ...  ...                ...   \n",
              "9726                  4                 5  ...                  5   \n",
              "6639                  3                 2  ...                  5   \n",
              "119                   3                 2  ...                  1   \n",
              "6130                  3                 2  ...                  2   \n",
              "11268                 4                 5  ...                  2   \n",
              "\n",
              "       Emp_Competitive_5  Emp_Collaborative_1  Emp_Collaborative_2  \\\n",
              "12020                  5                    3                    1   \n",
              "278                    4                    4                    1   \n",
              "4758                   2                    1                    4   \n",
              "11105                  4                    5                    1   \n",
              "11022                  2                    1                    2   \n",
              "...                  ...                  ...                  ...   \n",
              "9726                   5                    5                    2   \n",
              "6639                   3                    3                    2   \n",
              "119                    4                    3                    2   \n",
              "6130                   1                    1                    2   \n",
              "11268                  2                    4                    1   \n",
              "\n",
              "       Emp_Collaborative_3  Emp_Collaborative_4  Emp_Collaborative_5  \\\n",
              "12020                    4                    4                    5   \n",
              "278                      1                    4                    3   \n",
              "4758                     3                    1                    1   \n",
              "11105                    5                    2                    4   \n",
              "11022                    1                    1                    3   \n",
              "...                    ...                  ...                  ...   \n",
              "9726                     4                    2                    4   \n",
              "6639                     2                    1                    3   \n",
              "119                      3                    1                    5   \n",
              "6130                     4                    3                    1   \n",
              "11268                    5                    3                    1   \n",
              "\n",
              "       Sensor_StepCount  Sensor_Heartbeat(Average/Min)  \\\n",
              "12020              4262                             75   \n",
              "278                1668                             71   \n",
              "4758               1249                             86   \n",
              "11105              1629                             89   \n",
              "11022              4345                             73   \n",
              "...                 ...                            ...   \n",
              "9726               5349                             78   \n",
              "6639               2338                             77   \n",
              "119                2429                             79   \n",
              "6130               1077                             87   \n",
              "11268              1601                             90   \n",
              "\n",
              "       Sensor_Proximity(1-highest/10-lowest)  \n",
              "12020                                      3  \n",
              "278                                        9  \n",
              "4758                                       3  \n",
              "11105                                      6  \n",
              "11022                                      9  \n",
              "...                                      ...  \n",
              "9726                                       2  \n",
              "6639                                      10  \n",
              "119                                        7  \n",
              "6130                                       6  \n",
              "11268                                      5  \n",
              "\n",
              "[2493 rows x 43 columns]"
            ],
            "text/html": [
              "\n",
              "  <div id=\"df-c38e2b0b-84e4-4961-b21a-5b55e63c24f1\">\n",
              "    <div class=\"colab-df-container\">\n",
              "      <div>\n",
              "<style scoped>\n",
              "    .dataframe tbody tr th:only-of-type {\n",
              "        vertical-align: middle;\n",
              "    }\n",
              "\n",
              "    .dataframe tbody tr th {\n",
              "        vertical-align: top;\n",
              "    }\n",
              "\n",
              "    .dataframe thead th {\n",
              "        text-align: right;\n",
              "    }\n",
              "</style>\n",
              "<table border=\"1\" class=\"dataframe\">\n",
              "  <thead>\n",
              "    <tr style=\"text-align: right;\">\n",
              "      <th></th>\n",
              "      <th>Will_Relocate</th>\n",
              "      <th>Trending Perf</th>\n",
              "      <th>Talent_Level</th>\n",
              "      <th>Validated_Talent_Level</th>\n",
              "      <th>Percent_Remote</th>\n",
              "      <th>EMP_Sat_Remote_1</th>\n",
              "      <th>EMP_Sat_Remote_2</th>\n",
              "      <th>EMP_Sat_Remote_3</th>\n",
              "      <th>EMP_Sat_Remote_4</th>\n",
              "      <th>EMP_Sat_Remote_5</th>\n",
              "      <th>...</th>\n",
              "      <th>Emp_Competitive_4</th>\n",
              "      <th>Emp_Competitive_5</th>\n",
              "      <th>Emp_Collaborative_1</th>\n",
              "      <th>Emp_Collaborative_2</th>\n",
              "      <th>Emp_Collaborative_3</th>\n",
              "      <th>Emp_Collaborative_4</th>\n",
              "      <th>Emp_Collaborative_5</th>\n",
              "      <th>Sensor_StepCount</th>\n",
              "      <th>Sensor_Heartbeat(Average/Min)</th>\n",
              "      <th>Sensor_Proximity(1-highest/10-lowest)</th>\n",
              "    </tr>\n",
              "  </thead>\n",
              "  <tbody>\n",
              "    <tr>\n",
              "      <th>12020</th>\n",
              "      <td>1</td>\n",
              "      <td>3</td>\n",
              "      <td>6</td>\n",
              "      <td>6</td>\n",
              "      <td>0.8</td>\n",
              "      <td>5</td>\n",
              "      <td>5</td>\n",
              "      <td>4</td>\n",
              "      <td>5</td>\n",
              "      <td>4</td>\n",
              "      <td>...</td>\n",
              "      <td>5</td>\n",
              "      <td>5</td>\n",
              "      <td>3</td>\n",
              "      <td>1</td>\n",
              "      <td>4</td>\n",
              "      <td>4</td>\n",
              "      <td>5</td>\n",
              "      <td>4262</td>\n",
              "      <td>75</td>\n",
              "      <td>3</td>\n",
              "    </tr>\n",
              "    <tr>\n",
              "      <th>278</th>\n",
              "      <td>1</td>\n",
              "      <td>3</td>\n",
              "      <td>6</td>\n",
              "      <td>6</td>\n",
              "      <td>0.4</td>\n",
              "      <td>2</td>\n",
              "      <td>3</td>\n",
              "      <td>2</td>\n",
              "      <td>3</td>\n",
              "      <td>2</td>\n",
              "      <td>...</td>\n",
              "      <td>3</td>\n",
              "      <td>4</td>\n",
              "      <td>4</td>\n",
              "      <td>1</td>\n",
              "      <td>1</td>\n",
              "      <td>4</td>\n",
              "      <td>3</td>\n",
              "      <td>1668</td>\n",
              "      <td>71</td>\n",
              "      <td>9</td>\n",
              "    </tr>\n",
              "    <tr>\n",
              "      <th>4758</th>\n",
              "      <td>0</td>\n",
              "      <td>3</td>\n",
              "      <td>6</td>\n",
              "      <td>6</td>\n",
              "      <td>0.8</td>\n",
              "      <td>5</td>\n",
              "      <td>5</td>\n",
              "      <td>4</td>\n",
              "      <td>5</td>\n",
              "      <td>4</td>\n",
              "      <td>...</td>\n",
              "      <td>3</td>\n",
              "      <td>2</td>\n",
              "      <td>1</td>\n",
              "      <td>4</td>\n",
              "      <td>3</td>\n",
              "      <td>1</td>\n",
              "      <td>1</td>\n",
              "      <td>1249</td>\n",
              "      <td>86</td>\n",
              "      <td>3</td>\n",
              "    </tr>\n",
              "    <tr>\n",
              "      <th>11105</th>\n",
              "      <td>1</td>\n",
              "      <td>3</td>\n",
              "      <td>6</td>\n",
              "      <td>6</td>\n",
              "      <td>0.8</td>\n",
              "      <td>3</td>\n",
              "      <td>5</td>\n",
              "      <td>4</td>\n",
              "      <td>4</td>\n",
              "      <td>5</td>\n",
              "      <td>...</td>\n",
              "      <td>4</td>\n",
              "      <td>4</td>\n",
              "      <td>5</td>\n",
              "      <td>1</td>\n",
              "      <td>5</td>\n",
              "      <td>2</td>\n",
              "      <td>4</td>\n",
              "      <td>1629</td>\n",
              "      <td>89</td>\n",
              "      <td>6</td>\n",
              "    </tr>\n",
              "    <tr>\n",
              "      <th>11022</th>\n",
              "      <td>0</td>\n",
              "      <td>3</td>\n",
              "      <td>6</td>\n",
              "      <td>6</td>\n",
              "      <td>0.8</td>\n",
              "      <td>3</td>\n",
              "      <td>5</td>\n",
              "      <td>4</td>\n",
              "      <td>4</td>\n",
              "      <td>5</td>\n",
              "      <td>...</td>\n",
              "      <td>3</td>\n",
              "      <td>2</td>\n",
              "      <td>1</td>\n",
              "      <td>2</td>\n",
              "      <td>1</td>\n",
              "      <td>1</td>\n",
              "      <td>3</td>\n",
              "      <td>4345</td>\n",
              "      <td>73</td>\n",
              "      <td>9</td>\n",
              "    </tr>\n",
              "    <tr>\n",
              "      <th>...</th>\n",
              "      <td>...</td>\n",
              "      <td>...</td>\n",
              "      <td>...</td>\n",
              "      <td>...</td>\n",
              "      <td>...</td>\n",
              "      <td>...</td>\n",
              "      <td>...</td>\n",
              "      <td>...</td>\n",
              "      <td>...</td>\n",
              "      <td>...</td>\n",
              "      <td>...</td>\n",
              "      <td>...</td>\n",
              "      <td>...</td>\n",
              "      <td>...</td>\n",
              "      <td>...</td>\n",
              "      <td>...</td>\n",
              "      <td>...</td>\n",
              "      <td>...</td>\n",
              "      <td>...</td>\n",
              "      <td>...</td>\n",
              "      <td>...</td>\n",
              "    </tr>\n",
              "    <tr>\n",
              "      <th>9726</th>\n",
              "      <td>1</td>\n",
              "      <td>3</td>\n",
              "      <td>6</td>\n",
              "      <td>6</td>\n",
              "      <td>0.8</td>\n",
              "      <td>3</td>\n",
              "      <td>5</td>\n",
              "      <td>4</td>\n",
              "      <td>4</td>\n",
              "      <td>5</td>\n",
              "      <td>...</td>\n",
              "      <td>5</td>\n",
              "      <td>5</td>\n",
              "      <td>5</td>\n",
              "      <td>2</td>\n",
              "      <td>4</td>\n",
              "      <td>2</td>\n",
              "      <td>4</td>\n",
              "      <td>5349</td>\n",
              "      <td>78</td>\n",
              "      <td>2</td>\n",
              "    </tr>\n",
              "    <tr>\n",
              "      <th>6639</th>\n",
              "      <td>0</td>\n",
              "      <td>3</td>\n",
              "      <td>6</td>\n",
              "      <td>6</td>\n",
              "      <td>0.4</td>\n",
              "      <td>2</td>\n",
              "      <td>3</td>\n",
              "      <td>2</td>\n",
              "      <td>3</td>\n",
              "      <td>2</td>\n",
              "      <td>...</td>\n",
              "      <td>5</td>\n",
              "      <td>3</td>\n",
              "      <td>3</td>\n",
              "      <td>2</td>\n",
              "      <td>2</td>\n",
              "      <td>1</td>\n",
              "      <td>3</td>\n",
              "      <td>2338</td>\n",
              "      <td>77</td>\n",
              "      <td>10</td>\n",
              "    </tr>\n",
              "    <tr>\n",
              "      <th>119</th>\n",
              "      <td>0</td>\n",
              "      <td>3</td>\n",
              "      <td>6</td>\n",
              "      <td>6</td>\n",
              "      <td>0.4</td>\n",
              "      <td>2</td>\n",
              "      <td>3</td>\n",
              "      <td>2</td>\n",
              "      <td>3</td>\n",
              "      <td>2</td>\n",
              "      <td>...</td>\n",
              "      <td>1</td>\n",
              "      <td>4</td>\n",
              "      <td>3</td>\n",
              "      <td>2</td>\n",
              "      <td>3</td>\n",
              "      <td>1</td>\n",
              "      <td>5</td>\n",
              "      <td>2429</td>\n",
              "      <td>79</td>\n",
              "      <td>7</td>\n",
              "    </tr>\n",
              "    <tr>\n",
              "      <th>6130</th>\n",
              "      <td>1</td>\n",
              "      <td>3</td>\n",
              "      <td>6</td>\n",
              "      <td>6</td>\n",
              "      <td>0.4</td>\n",
              "      <td>2</td>\n",
              "      <td>3</td>\n",
              "      <td>2</td>\n",
              "      <td>3</td>\n",
              "      <td>2</td>\n",
              "      <td>...</td>\n",
              "      <td>2</td>\n",
              "      <td>1</td>\n",
              "      <td>1</td>\n",
              "      <td>2</td>\n",
              "      <td>4</td>\n",
              "      <td>3</td>\n",
              "      <td>1</td>\n",
              "      <td>1077</td>\n",
              "      <td>87</td>\n",
              "      <td>6</td>\n",
              "    </tr>\n",
              "    <tr>\n",
              "      <th>11268</th>\n",
              "      <td>0</td>\n",
              "      <td>3</td>\n",
              "      <td>6</td>\n",
              "      <td>6</td>\n",
              "      <td>0.8</td>\n",
              "      <td>3</td>\n",
              "      <td>5</td>\n",
              "      <td>4</td>\n",
              "      <td>4</td>\n",
              "      <td>5</td>\n",
              "      <td>...</td>\n",
              "      <td>2</td>\n",
              "      <td>2</td>\n",
              "      <td>4</td>\n",
              "      <td>1</td>\n",
              "      <td>5</td>\n",
              "      <td>3</td>\n",
              "      <td>1</td>\n",
              "      <td>1601</td>\n",
              "      <td>90</td>\n",
              "      <td>5</td>\n",
              "    </tr>\n",
              "  </tbody>\n",
              "</table>\n",
              "<p>2493 rows × 43 columns</p>\n",
              "</div>\n",
              "      <button class=\"colab-df-convert\" onclick=\"convertToInteractive('df-c38e2b0b-84e4-4961-b21a-5b55e63c24f1')\"\n",
              "              title=\"Convert this dataframe to an interactive table.\"\n",
              "              style=\"display:none;\">\n",
              "        \n",
              "  <svg xmlns=\"http://www.w3.org/2000/svg\" height=\"24px\"viewBox=\"0 0 24 24\"\n",
              "       width=\"24px\">\n",
              "    <path d=\"M0 0h24v24H0V0z\" fill=\"none\"/>\n",
              "    <path d=\"M18.56 5.44l.94 2.06.94-2.06 2.06-.94-2.06-.94-.94-2.06-.94 2.06-2.06.94zm-11 1L8.5 8.5l.94-2.06 2.06-.94-2.06-.94L8.5 2.5l-.94 2.06-2.06.94zm10 10l.94 2.06.94-2.06 2.06-.94-2.06-.94-.94-2.06-.94 2.06-2.06.94z\"/><path d=\"M17.41 7.96l-1.37-1.37c-.4-.4-.92-.59-1.43-.59-.52 0-1.04.2-1.43.59L10.3 9.45l-7.72 7.72c-.78.78-.78 2.05 0 2.83L4 21.41c.39.39.9.59 1.41.59.51 0 1.02-.2 1.41-.59l7.78-7.78 2.81-2.81c.8-.78.8-2.07 0-2.86zM5.41 20L4 18.59l7.72-7.72 1.47 1.35L5.41 20z\"/>\n",
              "  </svg>\n",
              "      </button>\n",
              "      \n",
              "  <style>\n",
              "    .colab-df-container {\n",
              "      display:flex;\n",
              "      flex-wrap:wrap;\n",
              "      gap: 12px;\n",
              "    }\n",
              "\n",
              "    .colab-df-convert {\n",
              "      background-color: #E8F0FE;\n",
              "      border: none;\n",
              "      border-radius: 50%;\n",
              "      cursor: pointer;\n",
              "      display: none;\n",
              "      fill: #1967D2;\n",
              "      height: 32px;\n",
              "      padding: 0 0 0 0;\n",
              "      width: 32px;\n",
              "    }\n",
              "\n",
              "    .colab-df-convert:hover {\n",
              "      background-color: #E2EBFA;\n",
              "      box-shadow: 0px 1px 2px rgba(60, 64, 67, 0.3), 0px 1px 3px 1px rgba(60, 64, 67, 0.15);\n",
              "      fill: #174EA6;\n",
              "    }\n",
              "\n",
              "    [theme=dark] .colab-df-convert {\n",
              "      background-color: #3B4455;\n",
              "      fill: #D2E3FC;\n",
              "    }\n",
              "\n",
              "    [theme=dark] .colab-df-convert:hover {\n",
              "      background-color: #434B5C;\n",
              "      box-shadow: 0px 1px 3px 1px rgba(0, 0, 0, 0.15);\n",
              "      filter: drop-shadow(0px 1px 2px rgba(0, 0, 0, 0.3));\n",
              "      fill: #FFFFFF;\n",
              "    }\n",
              "  </style>\n",
              "\n",
              "      <script>\n",
              "        const buttonEl =\n",
              "          document.querySelector('#df-c38e2b0b-84e4-4961-b21a-5b55e63c24f1 button.colab-df-convert');\n",
              "        buttonEl.style.display =\n",
              "          google.colab.kernel.accessAllowed ? 'block' : 'none';\n",
              "\n",
              "        async function convertToInteractive(key) {\n",
              "          const element = document.querySelector('#df-c38e2b0b-84e4-4961-b21a-5b55e63c24f1');\n",
              "          const dataTable =\n",
              "            await google.colab.kernel.invokeFunction('convertToInteractive',\n",
              "                                                     [key], {});\n",
              "          if (!dataTable) return;\n",
              "\n",
              "          const docLinkHtml = 'Like what you see? Visit the ' +\n",
              "            '<a target=\"_blank\" href=https://colab.research.google.com/notebooks/data_table.ipynb>data table notebook</a>'\n",
              "            + ' to learn more about interactive tables.';\n",
              "          element.innerHTML = '';\n",
              "          dataTable['output_type'] = 'display_data';\n",
              "          await google.colab.output.renderOutput(dataTable, element);\n",
              "          const docLink = document.createElement('div');\n",
              "          docLink.innerHTML = docLinkHtml;\n",
              "          element.appendChild(docLink);\n",
              "        }\n",
              "      </script>\n",
              "    </div>\n",
              "  </div>\n",
              "  "
            ]
          },
          "metadata": {},
          "execution_count": 184
        }
      ]
    },
    {
      "cell_type": "code",
      "source": [
        "y_pred[:10]"
      ],
      "metadata": {
        "colab": {
          "base_uri": "https://localhost:8080/"
        },
        "id": "Cw_aQhVMhrO2",
        "outputId": "e0964c84-03a3-489c-ad08-b185014265eb"
      },
      "execution_count": null,
      "outputs": [
        {
          "output_type": "execute_result",
          "data": {
            "text/plain": [
              "array([0, 1, 1, 1, 0, 0, 0, 0, 0, 0])"
            ]
          },
          "metadata": {},
          "execution_count": 185
        }
      ]
    },
    {
      "cell_type": "code",
      "source": [
        "y_test[:10].values"
      ],
      "metadata": {
        "colab": {
          "base_uri": "https://localhost:8080/"
        },
        "id": "GdzLS_WChuUb",
        "outputId": "c5136d13-0fa1-46da-d1c6-2bdc739ac628"
      },
      "execution_count": null,
      "outputs": [
        {
          "output_type": "execute_result",
          "data": {
            "text/plain": [
              "array([0, 1, 1, 1, 0, 0, 0, 0, 0, 0])"
            ]
          },
          "metadata": {},
          "execution_count": 186
        }
      ]
    },
    {
      "cell_type": "markdown",
      "source": [
        "### ARBOL DE DECISIÓN - EVALUACIÓN"
      ],
      "metadata": {
        "id": "781QaIW41xVi"
      }
    },
    {
      "cell_type": "code",
      "source": [
        "# Evaluacion \n",
        "from sklearn.metrics import accuracy_score, recall_score, precision_score, f1_score\n",
        "from sklearn.metrics import classification_report\n",
        "from sklearn.metrics import confusion_matrix"
      ],
      "metadata": {
        "id": "sOcrh9PhhxXP"
      },
      "execution_count": null,
      "outputs": []
    },
    {
      "cell_type": "code",
      "source": [
        "# Evaluamos el modelo en el conjunto de testeo:\n",
        "recall = recall_score(y_train, y_pred_train)\n",
        "precision = precision_score(y_train, y_pred_train)\n",
        "acc = accuracy_score(y_train, y_pred_train)\n",
        "f1 = f1_score(y_train, y_pred_train)\n",
        "\n",
        "print('METRICAS TRAIN:')\n",
        "print('Recall: {:.4f}'.format(recall))\n",
        "print('Precision: {:.4f}'.format(precision))\n",
        "print('F1: {:.4f}'.format(f1))\n",
        "print('Accuracy: {:.4f}'.format(acc))"
      ],
      "metadata": {
        "colab": {
          "base_uri": "https://localhost:8080/"
        },
        "id": "yQNSrZ-8hz_4",
        "outputId": "231c5cda-5377-4420-f44b-1f39f111aeda"
      },
      "execution_count": null,
      "outputs": [
        {
          "output_type": "stream",
          "name": "stdout",
          "text": [
            "METRICAS TRAIN:\n",
            "Recall: 1.0000\n",
            "Precision: 1.0000\n",
            "F1: 1.0000\n",
            "Accuracy: 1.0000\n"
          ]
        }
      ]
    },
    {
      "cell_type": "code",
      "source": [
        "# Evaluamos el modelo ya entrenado en el conjunto de testeo\n",
        "recall = recall_score(y_test, y_pred)\n",
        "precision = precision_score(y_test, y_pred)\n",
        "acc = accuracy_score(y_test, y_pred)\n",
        "f1 = f1_score(y_test, y_pred)\n",
        "\n",
        "print('METRICAS TEST:')\n",
        "print('Recall: {:.4f}'.format(recall))\n",
        "print('Precision: {:.4f}'.format(precision))\n",
        "print('F1: {:.4f}'.format(f1))\n",
        "print('Accuracy: {:.4f}'.format(acc))"
      ],
      "metadata": {
        "colab": {
          "base_uri": "https://localhost:8080/"
        },
        "id": "tkpZKnGRh4Vd",
        "outputId": "1c79f3d7-d2fc-463c-9aee-61cbf3fdf21a"
      },
      "execution_count": null,
      "outputs": [
        {
          "output_type": "stream",
          "name": "stdout",
          "text": [
            "METRICAS TEST:\n",
            "Recall: 1.0000\n",
            "Precision: 1.0000\n",
            "F1: 1.0000\n",
            "Accuracy: 1.0000\n"
          ]
        }
      ]
    },
    {
      "cell_type": "code",
      "source": [
        "confusion_matrix(y_test, y_pred)"
      ],
      "metadata": {
        "colab": {
          "base_uri": "https://localhost:8080/"
        },
        "id": "IalyMYBph7g4",
        "outputId": "971faa74-c29e-4c39-be92-8c278a496b27"
      },
      "execution_count": null,
      "outputs": [
        {
          "output_type": "execute_result",
          "data": {
            "text/plain": [
              "array([[1780,    0],\n",
              "       [   0,  713]])"
            ]
          },
          "metadata": {},
          "execution_count": 190
        }
      ]
    },
    {
      "cell_type": "code",
      "source": [
        "y_test.value_counts()"
      ],
      "metadata": {
        "colab": {
          "base_uri": "https://localhost:8080/"
        },
        "id": "e1bOQeOMh-Ya",
        "outputId": "ba3dd753-442d-4c63-8565-41c59019cf32"
      },
      "execution_count": null,
      "outputs": [
        {
          "output_type": "execute_result",
          "data": {
            "text/plain": [
              "0    1780\n",
              "1     713\n",
              "Name: left_Company, dtype: int64"
            ]
          },
          "metadata": {},
          "execution_count": 191
        }
      ]
    },
    {
      "cell_type": "code",
      "source": [
        "type(y_pred)"
      ],
      "metadata": {
        "colab": {
          "base_uri": "https://localhost:8080/"
        },
        "id": "jegHOiadiBt5",
        "outputId": "4b239705-dc67-49b5-e996-33dcf8017c82"
      },
      "execution_count": null,
      "outputs": [
        {
          "output_type": "execute_result",
          "data": {
            "text/plain": [
              "numpy.ndarray"
            ]
          },
          "metadata": {},
          "execution_count": 192
        }
      ]
    },
    {
      "cell_type": "code",
      "source": [
        "pd.Series(y_pred).value_counts()"
      ],
      "metadata": {
        "colab": {
          "base_uri": "https://localhost:8080/"
        },
        "id": "mmNKc6VViE52",
        "outputId": "df8c6024-3ddb-4e78-fad7-51d772549970"
      },
      "execution_count": null,
      "outputs": [
        {
          "output_type": "execute_result",
          "data": {
            "text/plain": [
              "0    1780\n",
              "1     713\n",
              "dtype: int64"
            ]
          },
          "metadata": {},
          "execution_count": 193
        }
      ]
    },
    {
      "cell_type": "code",
      "source": [
        "print(classification_report(y_test, y_pred))"
      ],
      "metadata": {
        "colab": {
          "base_uri": "https://localhost:8080/"
        },
        "id": "3T-ZmGjJiHkf",
        "outputId": "92496efe-a670-48a4-f7f3-c60519a32633"
      },
      "execution_count": null,
      "outputs": [
        {
          "output_type": "stream",
          "name": "stdout",
          "text": [
            "              precision    recall  f1-score   support\n",
            "\n",
            "           0       1.00      1.00      1.00      1780\n",
            "           1       1.00      1.00      1.00       713\n",
            "\n",
            "    accuracy                           1.00      2493\n",
            "   macro avg       1.00      1.00      1.00      2493\n",
            "weighted avg       1.00      1.00      1.00      2493\n",
            "\n"
          ]
        }
      ]
    },
    {
      "cell_type": "code",
      "source": [
        "proba = tree_model.predict_proba(X_test)\n",
        "\n",
        "proba"
      ],
      "metadata": {
        "colab": {
          "base_uri": "https://localhost:8080/"
        },
        "id": "onBt6TBgiKt9",
        "outputId": "d3ae9469-563d-421f-c08c-8999a9ad0184"
      },
      "execution_count": null,
      "outputs": [
        {
          "output_type": "execute_result",
          "data": {
            "text/plain": [
              "array([[1., 0.],\n",
              "       [0., 1.],\n",
              "       [0., 1.],\n",
              "       ...,\n",
              "       [1., 0.],\n",
              "       [1., 0.],\n",
              "       [0., 1.]])"
            ]
          },
          "metadata": {},
          "execution_count": 195
        }
      ]
    },
    {
      "cell_type": "code",
      "source": [
        "tree_model.feature_importances_"
      ],
      "metadata": {
        "colab": {
          "base_uri": "https://localhost:8080/"
        },
        "id": "HJU_HgjciNvd",
        "outputId": "3d12a9a8-7a57-45c6-f376-ba205adcf58b"
      },
      "execution_count": null,
      "outputs": [
        {
          "output_type": "execute_result",
          "data": {
            "text/plain": [
              "array([0.00000000e+00, 0.00000000e+00, 0.00000000e+00, 0.00000000e+00,\n",
              "       0.00000000e+00, 0.00000000e+00, 0.00000000e+00, 0.00000000e+00,\n",
              "       0.00000000e+00, 0.00000000e+00, 0.00000000e+00, 0.00000000e+00,\n",
              "       0.00000000e+00, 0.00000000e+00, 1.00000000e+00, 0.00000000e+00,\n",
              "       0.00000000e+00, 0.00000000e+00, 0.00000000e+00, 0.00000000e+00,\n",
              "       0.00000000e+00, 0.00000000e+00, 0.00000000e+00, 0.00000000e+00,\n",
              "       0.00000000e+00, 0.00000000e+00, 0.00000000e+00, 0.00000000e+00,\n",
              "       0.00000000e+00, 0.00000000e+00, 0.00000000e+00, 0.00000000e+00,\n",
              "       0.00000000e+00, 3.93018951e-14, 0.00000000e+00, 0.00000000e+00,\n",
              "       0.00000000e+00, 0.00000000e+00, 0.00000000e+00, 0.00000000e+00,\n",
              "       0.00000000e+00, 0.00000000e+00, 0.00000000e+00])"
            ]
          },
          "metadata": {},
          "execution_count": 196
        }
      ]
    },
    {
      "cell_type": "code",
      "source": [
        "df_importancia = pd.DataFrame({'Variable': X_train.columns.values.tolist(),\n",
        "                               'Importancia': tree_model.feature_importances_}).sort_values(by='Importancia', ascending=False)\n",
        "\n",
        "df_importancia"
      ],
      "metadata": {
        "colab": {
          "base_uri": "https://localhost:8080/",
          "height": 1000
        },
        "id": "PKCr7k0ciT_e",
        "outputId": "7d3856ff-c99e-44d4-a65e-f947f4014aff"
      },
      "execution_count": null,
      "outputs": [
        {
          "output_type": "execute_result",
          "data": {
            "text/plain": [
              "                                 Variable   Importancia\n",
              "14                       EMP_Engagement_5  1.000000e+00\n",
              "33                      Emp_Competitive_4  3.930190e-14\n",
              "0                           Will_Relocate  0.000000e+00\n",
              "31                      Emp_Competitive_2  0.000000e+00\n",
              "24                      Emp_Work_Status_4  0.000000e+00\n",
              "25                      Emp_Work_Status_5  0.000000e+00\n",
              "26                           Emp_Identity  0.000000e+00\n",
              "27                               Emp_Role  0.000000e+00\n",
              "28                           Emp_Position  0.000000e+00\n",
              "29                              Emp_Title  0.000000e+00\n",
              "30                      Emp_Competitive_1  0.000000e+00\n",
              "32                      Emp_Competitive_3  0.000000e+00\n",
              "22                       Emp_Work_Status2  0.000000e+00\n",
              "34                      Emp_Competitive_5  0.000000e+00\n",
              "35                    Emp_Collaborative_1  0.000000e+00\n",
              "36                    Emp_Collaborative_2  0.000000e+00\n",
              "37                    Emp_Collaborative_3  0.000000e+00\n",
              "38                    Emp_Collaborative_4  0.000000e+00\n",
              "39                    Emp_Collaborative_5  0.000000e+00\n",
              "40                       Sensor_StepCount  0.000000e+00\n",
              "41          Sensor_Heartbeat(Average/Min)  0.000000e+00\n",
              "23                      Emp_Work_Status_3  0.000000e+00\n",
              "21                          LinkedIn_Hits  0.000000e+00\n",
              "1                           Trending Perf  0.000000e+00\n",
              "20                  promotion_last_5years  0.000000e+00\n",
              "2                            Talent_Level  0.000000e+00\n",
              "3                  Validated_Talent_Level  0.000000e+00\n",
              "4                          Percent_Remote  0.000000e+00\n",
              "5                        EMP_Sat_Remote_1  0.000000e+00\n",
              "6                        EMP_Sat_Remote_2  0.000000e+00\n",
              "7                        EMP_Sat_Remote_3  0.000000e+00\n",
              "8                        EMP_Sat_Remote_4  0.000000e+00\n",
              "9                        EMP_Sat_Remote_5  0.000000e+00\n",
              "10                       EMP_Engagement_1  0.000000e+00\n",
              "11                       EMP_Engagement_2  0.000000e+00\n",
              "12                       EMP_Engagement_3  0.000000e+00\n",
              "13                       EMP_Engagement_4  0.000000e+00\n",
              "15                        last_evaluation  0.000000e+00\n",
              "16                         number_project  0.000000e+00\n",
              "17                   average_montly_hours  0.000000e+00\n",
              "18                     time_spend_company  0.000000e+00\n",
              "19                          Work_accident  0.000000e+00\n",
              "42  Sensor_Proximity(1-highest/10-lowest)  0.000000e+00"
            ],
            "text/html": [
              "\n",
              "  <div id=\"df-0d5c5674-da45-4307-b3a4-4259ce3e2bb2\">\n",
              "    <div class=\"colab-df-container\">\n",
              "      <div>\n",
              "<style scoped>\n",
              "    .dataframe tbody tr th:only-of-type {\n",
              "        vertical-align: middle;\n",
              "    }\n",
              "\n",
              "    .dataframe tbody tr th {\n",
              "        vertical-align: top;\n",
              "    }\n",
              "\n",
              "    .dataframe thead th {\n",
              "        text-align: right;\n",
              "    }\n",
              "</style>\n",
              "<table border=\"1\" class=\"dataframe\">\n",
              "  <thead>\n",
              "    <tr style=\"text-align: right;\">\n",
              "      <th></th>\n",
              "      <th>Variable</th>\n",
              "      <th>Importancia</th>\n",
              "    </tr>\n",
              "  </thead>\n",
              "  <tbody>\n",
              "    <tr>\n",
              "      <th>14</th>\n",
              "      <td>EMP_Engagement_5</td>\n",
              "      <td>1.000000e+00</td>\n",
              "    </tr>\n",
              "    <tr>\n",
              "      <th>33</th>\n",
              "      <td>Emp_Competitive_4</td>\n",
              "      <td>3.930190e-14</td>\n",
              "    </tr>\n",
              "    <tr>\n",
              "      <th>0</th>\n",
              "      <td>Will_Relocate</td>\n",
              "      <td>0.000000e+00</td>\n",
              "    </tr>\n",
              "    <tr>\n",
              "      <th>31</th>\n",
              "      <td>Emp_Competitive_2</td>\n",
              "      <td>0.000000e+00</td>\n",
              "    </tr>\n",
              "    <tr>\n",
              "      <th>24</th>\n",
              "      <td>Emp_Work_Status_4</td>\n",
              "      <td>0.000000e+00</td>\n",
              "    </tr>\n",
              "    <tr>\n",
              "      <th>25</th>\n",
              "      <td>Emp_Work_Status_5</td>\n",
              "      <td>0.000000e+00</td>\n",
              "    </tr>\n",
              "    <tr>\n",
              "      <th>26</th>\n",
              "      <td>Emp_Identity</td>\n",
              "      <td>0.000000e+00</td>\n",
              "    </tr>\n",
              "    <tr>\n",
              "      <th>27</th>\n",
              "      <td>Emp_Role</td>\n",
              "      <td>0.000000e+00</td>\n",
              "    </tr>\n",
              "    <tr>\n",
              "      <th>28</th>\n",
              "      <td>Emp_Position</td>\n",
              "      <td>0.000000e+00</td>\n",
              "    </tr>\n",
              "    <tr>\n",
              "      <th>29</th>\n",
              "      <td>Emp_Title</td>\n",
              "      <td>0.000000e+00</td>\n",
              "    </tr>\n",
              "    <tr>\n",
              "      <th>30</th>\n",
              "      <td>Emp_Competitive_1</td>\n",
              "      <td>0.000000e+00</td>\n",
              "    </tr>\n",
              "    <tr>\n",
              "      <th>32</th>\n",
              "      <td>Emp_Competitive_3</td>\n",
              "      <td>0.000000e+00</td>\n",
              "    </tr>\n",
              "    <tr>\n",
              "      <th>22</th>\n",
              "      <td>Emp_Work_Status2</td>\n",
              "      <td>0.000000e+00</td>\n",
              "    </tr>\n",
              "    <tr>\n",
              "      <th>34</th>\n",
              "      <td>Emp_Competitive_5</td>\n",
              "      <td>0.000000e+00</td>\n",
              "    </tr>\n",
              "    <tr>\n",
              "      <th>35</th>\n",
              "      <td>Emp_Collaborative_1</td>\n",
              "      <td>0.000000e+00</td>\n",
              "    </tr>\n",
              "    <tr>\n",
              "      <th>36</th>\n",
              "      <td>Emp_Collaborative_2</td>\n",
              "      <td>0.000000e+00</td>\n",
              "    </tr>\n",
              "    <tr>\n",
              "      <th>37</th>\n",
              "      <td>Emp_Collaborative_3</td>\n",
              "      <td>0.000000e+00</td>\n",
              "    </tr>\n",
              "    <tr>\n",
              "      <th>38</th>\n",
              "      <td>Emp_Collaborative_4</td>\n",
              "      <td>0.000000e+00</td>\n",
              "    </tr>\n",
              "    <tr>\n",
              "      <th>39</th>\n",
              "      <td>Emp_Collaborative_5</td>\n",
              "      <td>0.000000e+00</td>\n",
              "    </tr>\n",
              "    <tr>\n",
              "      <th>40</th>\n",
              "      <td>Sensor_StepCount</td>\n",
              "      <td>0.000000e+00</td>\n",
              "    </tr>\n",
              "    <tr>\n",
              "      <th>41</th>\n",
              "      <td>Sensor_Heartbeat(Average/Min)</td>\n",
              "      <td>0.000000e+00</td>\n",
              "    </tr>\n",
              "    <tr>\n",
              "      <th>23</th>\n",
              "      <td>Emp_Work_Status_3</td>\n",
              "      <td>0.000000e+00</td>\n",
              "    </tr>\n",
              "    <tr>\n",
              "      <th>21</th>\n",
              "      <td>LinkedIn_Hits</td>\n",
              "      <td>0.000000e+00</td>\n",
              "    </tr>\n",
              "    <tr>\n",
              "      <th>1</th>\n",
              "      <td>Trending Perf</td>\n",
              "      <td>0.000000e+00</td>\n",
              "    </tr>\n",
              "    <tr>\n",
              "      <th>20</th>\n",
              "      <td>promotion_last_5years</td>\n",
              "      <td>0.000000e+00</td>\n",
              "    </tr>\n",
              "    <tr>\n",
              "      <th>2</th>\n",
              "      <td>Talent_Level</td>\n",
              "      <td>0.000000e+00</td>\n",
              "    </tr>\n",
              "    <tr>\n",
              "      <th>3</th>\n",
              "      <td>Validated_Talent_Level</td>\n",
              "      <td>0.000000e+00</td>\n",
              "    </tr>\n",
              "    <tr>\n",
              "      <th>4</th>\n",
              "      <td>Percent_Remote</td>\n",
              "      <td>0.000000e+00</td>\n",
              "    </tr>\n",
              "    <tr>\n",
              "      <th>5</th>\n",
              "      <td>EMP_Sat_Remote_1</td>\n",
              "      <td>0.000000e+00</td>\n",
              "    </tr>\n",
              "    <tr>\n",
              "      <th>6</th>\n",
              "      <td>EMP_Sat_Remote_2</td>\n",
              "      <td>0.000000e+00</td>\n",
              "    </tr>\n",
              "    <tr>\n",
              "      <th>7</th>\n",
              "      <td>EMP_Sat_Remote_3</td>\n",
              "      <td>0.000000e+00</td>\n",
              "    </tr>\n",
              "    <tr>\n",
              "      <th>8</th>\n",
              "      <td>EMP_Sat_Remote_4</td>\n",
              "      <td>0.000000e+00</td>\n",
              "    </tr>\n",
              "    <tr>\n",
              "      <th>9</th>\n",
              "      <td>EMP_Sat_Remote_5</td>\n",
              "      <td>0.000000e+00</td>\n",
              "    </tr>\n",
              "    <tr>\n",
              "      <th>10</th>\n",
              "      <td>EMP_Engagement_1</td>\n",
              "      <td>0.000000e+00</td>\n",
              "    </tr>\n",
              "    <tr>\n",
              "      <th>11</th>\n",
              "      <td>EMP_Engagement_2</td>\n",
              "      <td>0.000000e+00</td>\n",
              "    </tr>\n",
              "    <tr>\n",
              "      <th>12</th>\n",
              "      <td>EMP_Engagement_3</td>\n",
              "      <td>0.000000e+00</td>\n",
              "    </tr>\n",
              "    <tr>\n",
              "      <th>13</th>\n",
              "      <td>EMP_Engagement_4</td>\n",
              "      <td>0.000000e+00</td>\n",
              "    </tr>\n",
              "    <tr>\n",
              "      <th>15</th>\n",
              "      <td>last_evaluation</td>\n",
              "      <td>0.000000e+00</td>\n",
              "    </tr>\n",
              "    <tr>\n",
              "      <th>16</th>\n",
              "      <td>number_project</td>\n",
              "      <td>0.000000e+00</td>\n",
              "    </tr>\n",
              "    <tr>\n",
              "      <th>17</th>\n",
              "      <td>average_montly_hours</td>\n",
              "      <td>0.000000e+00</td>\n",
              "    </tr>\n",
              "    <tr>\n",
              "      <th>18</th>\n",
              "      <td>time_spend_company</td>\n",
              "      <td>0.000000e+00</td>\n",
              "    </tr>\n",
              "    <tr>\n",
              "      <th>19</th>\n",
              "      <td>Work_accident</td>\n",
              "      <td>0.000000e+00</td>\n",
              "    </tr>\n",
              "    <tr>\n",
              "      <th>42</th>\n",
              "      <td>Sensor_Proximity(1-highest/10-lowest)</td>\n",
              "      <td>0.000000e+00</td>\n",
              "    </tr>\n",
              "  </tbody>\n",
              "</table>\n",
              "</div>\n",
              "      <button class=\"colab-df-convert\" onclick=\"convertToInteractive('df-0d5c5674-da45-4307-b3a4-4259ce3e2bb2')\"\n",
              "              title=\"Convert this dataframe to an interactive table.\"\n",
              "              style=\"display:none;\">\n",
              "        \n",
              "  <svg xmlns=\"http://www.w3.org/2000/svg\" height=\"24px\"viewBox=\"0 0 24 24\"\n",
              "       width=\"24px\">\n",
              "    <path d=\"M0 0h24v24H0V0z\" fill=\"none\"/>\n",
              "    <path d=\"M18.56 5.44l.94 2.06.94-2.06 2.06-.94-2.06-.94-.94-2.06-.94 2.06-2.06.94zm-11 1L8.5 8.5l.94-2.06 2.06-.94-2.06-.94L8.5 2.5l-.94 2.06-2.06.94zm10 10l.94 2.06.94-2.06 2.06-.94-2.06-.94-.94-2.06-.94 2.06-2.06.94z\"/><path d=\"M17.41 7.96l-1.37-1.37c-.4-.4-.92-.59-1.43-.59-.52 0-1.04.2-1.43.59L10.3 9.45l-7.72 7.72c-.78.78-.78 2.05 0 2.83L4 21.41c.39.39.9.59 1.41.59.51 0 1.02-.2 1.41-.59l7.78-7.78 2.81-2.81c.8-.78.8-2.07 0-2.86zM5.41 20L4 18.59l7.72-7.72 1.47 1.35L5.41 20z\"/>\n",
              "  </svg>\n",
              "      </button>\n",
              "      \n",
              "  <style>\n",
              "    .colab-df-container {\n",
              "      display:flex;\n",
              "      flex-wrap:wrap;\n",
              "      gap: 12px;\n",
              "    }\n",
              "\n",
              "    .colab-df-convert {\n",
              "      background-color: #E8F0FE;\n",
              "      border: none;\n",
              "      border-radius: 50%;\n",
              "      cursor: pointer;\n",
              "      display: none;\n",
              "      fill: #1967D2;\n",
              "      height: 32px;\n",
              "      padding: 0 0 0 0;\n",
              "      width: 32px;\n",
              "    }\n",
              "\n",
              "    .colab-df-convert:hover {\n",
              "      background-color: #E2EBFA;\n",
              "      box-shadow: 0px 1px 2px rgba(60, 64, 67, 0.3), 0px 1px 3px 1px rgba(60, 64, 67, 0.15);\n",
              "      fill: #174EA6;\n",
              "    }\n",
              "\n",
              "    [theme=dark] .colab-df-convert {\n",
              "      background-color: #3B4455;\n",
              "      fill: #D2E3FC;\n",
              "    }\n",
              "\n",
              "    [theme=dark] .colab-df-convert:hover {\n",
              "      background-color: #434B5C;\n",
              "      box-shadow: 0px 1px 3px 1px rgba(0, 0, 0, 0.15);\n",
              "      filter: drop-shadow(0px 1px 2px rgba(0, 0, 0, 0.3));\n",
              "      fill: #FFFFFF;\n",
              "    }\n",
              "  </style>\n",
              "\n",
              "      <script>\n",
              "        const buttonEl =\n",
              "          document.querySelector('#df-0d5c5674-da45-4307-b3a4-4259ce3e2bb2 button.colab-df-convert');\n",
              "        buttonEl.style.display =\n",
              "          google.colab.kernel.accessAllowed ? 'block' : 'none';\n",
              "\n",
              "        async function convertToInteractive(key) {\n",
              "          const element = document.querySelector('#df-0d5c5674-da45-4307-b3a4-4259ce3e2bb2');\n",
              "          const dataTable =\n",
              "            await google.colab.kernel.invokeFunction('convertToInteractive',\n",
              "                                                     [key], {});\n",
              "          if (!dataTable) return;\n",
              "\n",
              "          const docLinkHtml = 'Like what you see? Visit the ' +\n",
              "            '<a target=\"_blank\" href=https://colab.research.google.com/notebooks/data_table.ipynb>data table notebook</a>'\n",
              "            + ' to learn more about interactive tables.';\n",
              "          element.innerHTML = '';\n",
              "          dataTable['output_type'] = 'display_data';\n",
              "          await google.colab.output.renderOutput(dataTable, element);\n",
              "          const docLink = document.createElement('div');\n",
              "          docLink.innerHTML = docLinkHtml;\n",
              "          element.appendChild(docLink);\n",
              "        }\n",
              "      </script>\n",
              "    </div>\n",
              "  </div>\n",
              "  "
            ]
          },
          "metadata": {},
          "execution_count": 197
        }
      ]
    },
    {
      "cell_type": "code",
      "source": [
        "plt.figure(figsize=(4,20))\n",
        "\n",
        "values = df_importancia.Importancia    \n",
        "\n",
        "sns.barplot(y=df_importancia.Variable,\n",
        "            x=values,\n",
        "            palette = ['green' if (x < max(values)) else 'red' for x in values ]\n",
        "           ).set(title='Importancia de Features para la predicción.')\n",
        "\n",
        "plt.show()"
      ],
      "metadata": {
        "colab": {
          "base_uri": "https://localhost:8080/",
          "height": 1000
        },
        "id": "4115snLFifyd",
        "outputId": "aeff7934-8c34-4012-daae-f9c56fc951fc"
      },
      "execution_count": null,
      "outputs": [
        {
          "output_type": "display_data",
          "data": {
            "text/plain": [
              "<Figure size 288x1440 with 1 Axes>"
            ],
            "image/png": "[encoded data removed]"
          },
          "metadata": {
            "needs_background": "light"
          }
        }
      ]
    },
    {
      "cell_type": "markdown",
      "source": [
        "# REGRESION LOGISTICA"
      ],
      "metadata": {
        "id": "4DZLw1bq9z6L"
      }
    },
    {
      "cell_type": "code",
      "source": [
        "from sklearn.preprocessing import StandardScaler\n",
        "scaler = StandardScaler()\n",
        "scaler.fit(X)\n",
        "X1 = scaler.transform(X)\n",
        "X1 = pd.DataFrame(data = X1, columns= X.columns)"
      ],
      "metadata": {
        "id": "rOIxW_Esi02D"
      },
      "execution_count": null,
      "outputs": []
    },
    {
      "cell_type": "code",
      "source": [
        "X_train, X_test, y_train, y_test = train_test_split(X1, y,\n",
        "                                                    test_size=0.2,\n",
        "                                                    random_state=33,\n",
        "                                                    stratify= y)\n",
        "\n",
        "\n",
        "\n",
        "print('Tamaño del set de Entrenamiento:', X_train.shape)\n",
        "print('Tamaño del set de Testeo:', X_test.shape)"
      ],
      "metadata": {
        "colab": {
          "base_uri": "https://localhost:8080/"
        },
        "id": "JZqNL-Gqi4qs",
        "outputId": "5540d79e-b9e2-492c-cbf1-84d1277aa734"
      },
      "execution_count": null,
      "outputs": [
        {
          "output_type": "stream",
          "name": "stdout",
          "text": [
            "Tamaño del set de Entrenamiento: (9968, 43)\n",
            "Tamaño del set de Testeo: (2493, 43)\n"
          ]
        }
      ]
    },
    {
      "cell_type": "code",
      "source": [
        "# Modelo\n",
        "from sklearn.linear_model import LogisticRegression\n",
        "clf = LogisticRegression(random_state=0).fit(X_train, y_train)"
      ],
      "metadata": {
        "id": "f74mg1iri9fa"
      },
      "execution_count": null,
      "outputs": []
    },
    {
      "cell_type": "code",
      "source": [
        "# Evaluamos\n",
        "y_pred = tree_model.predict(X_test)\n",
        "y_pred_train = tree_model.predict(X_train)\n",
        "print(classification_report(y_test, y_pred))"
      ],
      "metadata": {
        "colab": {
          "base_uri": "https://localhost:8080/"
        },
        "id": "7zR-ETgDi_zE",
        "outputId": "ee6ce377-30cc-4a16-fc4f-388912f3ad2c"
      },
      "execution_count": null,
      "outputs": [
        {
          "output_type": "stream",
          "name": "stdout",
          "text": [
            "              precision    recall  f1-score   support\n",
            "\n",
            "           0       0.00      0.00      0.00      1780\n",
            "           1       0.29      1.00      0.44       713\n",
            "\n",
            "    accuracy                           0.29      2493\n",
            "   macro avg       0.14      0.50      0.22      2493\n",
            "weighted avg       0.08      0.29      0.13      2493\n",
            "\n"
          ]
        },
        {
          "output_type": "stream",
          "name": "stderr",
          "text": [
            "/usr/local/lib/python3.8/dist-packages/sklearn/metrics/_classification.py:1318: UndefinedMetricWarning: Precision and F-score are ill-defined and being set to 0.0 in labels with no predicted samples. Use `zero_division` parameter to control this behavior.\n",
            "  _warn_prf(average, modifier, msg_start, len(result))\n",
            "/usr/local/lib/python3.8/dist-packages/sklearn/metrics/_classification.py:1318: UndefinedMetricWarning: Precision and F-score are ill-defined and being set to 0.0 in labels with no predicted samples. Use `zero_division` parameter to control this behavior.\n",
            "  _warn_prf(average, modifier, msg_start, len(result))\n",
            "/usr/local/lib/python3.8/dist-packages/sklearn/metrics/_classification.py:1318: UndefinedMetricWarning: Precision and F-score are ill-defined and being set to 0.0 in labels with no predicted samples. Use `zero_division` parameter to control this behavior.\n",
            "  _warn_prf(average, modifier, msg_start, len(result))\n"
          ]
        }
      ]
    },
    {
      "cell_type": "code",
      "source": [
        "plt.figure(figsize=(8,20))\n",
        "\n",
        "values = pd.Series(clf.coef_.flat)  \n",
        "\n",
        "sns.barplot(y=X1.columns,\n",
        "            x=values,\n",
        "           ).set(title='Importancia de Features para la predicción.')\n",
        "\n",
        "plt.show()"
      ],
      "metadata": {
        "colab": {
          "base_uri": "https://localhost:8080/",
          "height": 1000
        },
        "id": "C4hSjZIQjaAS",
        "outputId": "354e074a-00ca-421e-c21d-87a816732134"
      },
      "execution_count": null,
      "outputs": [
        {
          "output_type": "display_data",
          "data": {
            "text/plain": [
              "<Figure size 576x1440 with 1 Axes>"
            ],
            "image/png": "[encoded data removed]"
          },
          "metadata": {
            "needs_background": "light"
          }
        }
      ]
    },
    {
      "cell_type": "markdown",
      "source": [
        "## CONCLUSIONES - RESULTADO DE LOS MODELOS"
      ],
      "metadata": {
        "id": "jUzVrjat-4NB"
      }
    },
    {
      "cell_type": "markdown",
      "source": [
        "ARBOL DE DECISIÓN\n",
        "\n",
        "1.   El modelo predice con mucha certeza la probabilidad de renuncia del colaborador, en función al dataset en cuestión.\n",
        "2.   La variable más importante es **EMP_Engagement_5**\n",
        "\n",
        "REGRESION LOGISTICA\n",
        "\n",
        "\n",
        "1.   Elemento de lista\n",
        "2.   La variables más importantes son **EMP_Engagement_5, EMP_Engagement_4, EMP_Engagement_3, EMP_Engagement_2 y EMP_Engagement_1**.\n",
        "\n",
        "\n",
        "\n",
        "Ambos modelos ofrecen escelentes resultados de predicción; 1780 y 713; con niveles de prediccion y Accuracy del 100%\n",
        "En comparación la regresion destaca la importancia simila de los 5 campos de **EMP_Engagement_**; lo que guarda lógica puesto que se trata de los resultados de las mismas encuestas, pero en distintas instancias o momentos. \n",
        "\n",
        "El arbol de decisión simplifica el análisis, pero no devela la importancia similar de los resultados de las otras encuestas, que aqui vemos como variables distintas.\n",
        "\n"
      ],
      "metadata": {
        "id": "TUFOiyft_Bfd"
      }
    }
  ]
}